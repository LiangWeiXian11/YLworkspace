{
  "nbformat": 4,
  "nbformat_minor": 0,
  "metadata": {
    "colab": {
      "provenance": []
    },
    "kernelspec": {
      "name": "python3",
      "display_name": "Python 3"
    },
    "language_info": {
      "name": "python"
    }
  },
  "cells": [
    {
      "cell_type": "markdown",
      "source": [
        "## Import Data"
      ],
      "metadata": {
        "id": "JYe1CReyWw-s"
      }
    },
    {
      "cell_type": "code",
      "source": [
        "import requests\n",
        "import pandas as pd\n",
        "from io import BytesIO\n",
        "import os\n",
        "\n",
        "# GitHub raw URL for the Excel file\n",
        "url = \"https://github.com/LiangWeiXian11/YLworkspace/raw/main/uSMART1129_1.xlsx\"\n",
        "# url = \"https://github.com/LiangWeiXian11/YLworkspace/raw/main/uSMART1115.xlsx\"\n",
        "\n",
        "# Step 1: Extract file name from URL and use it as folder name (without extension)\n",
        "file_name = os.path.basename(url)  # Extract \"uSMART1122.xlsx\"\n",
        "folder_name = os.path.splitext(file_name)[0]  # Extract \"uSMART1122\" by removing extension\n",
        "\n",
        "# Directory to save CSV files\n",
        "output_dir = folder_name\n",
        "\n",
        "# Step 2: *Create* the output directory if it doesn't exist\n",
        "if not os.path.exists(output_dir):\n",
        "    os.makedirs(output_dir)\n",
        "\n",
        "# Step 1: Download the Excel file\n",
        "response = requests.get(url)\n",
        "if response.status_code == 200:\n",
        "    # Step 2: Load the Excel file into a dictionary of DataFrames\n",
        "    excel_data = BytesIO(response.content)\n",
        "    sheets = pd.read_excel(excel_data, sheet_name=None)  # Load all sheets\n",
        "    print(\"Loaded sheets:\", sheets.keys())  # Display sheet names\n",
        "\n",
        "    # Step 3: Process each sheet separately\n",
        "    for sheet_name, df in sheets.items():\n",
        "        print(f\"\\n--- Sheet: {sheet_name} ---\")\n",
        "        # print(df.info())  # Display the first few rows of the sheet\n",
        "\n",
        "        # Step 5: Save each sheet as a separate CSV file in the output directory\n",
        "        output_filename = os.path.join(output_dir, f\"{sheet_name}.csv\")\n",
        "        df.to_csv(output_filename, index=False)\n",
        "        print(f\"Saved {sheet_name} to {output_filename}\")\n",
        "else:\n",
        "    print(\"Failed to download the file. Check the URL or your internet connection.\")\n"
      ],
      "metadata": {
        "colab": {
          "base_uri": "https://localhost:8080/"
        },
        "id": "xQJ7b25xRByJ",
        "outputId": "9600997e-2390-42b2-b9ac-b6d85d2ed02c"
      },
      "execution_count": 1,
      "outputs": [
        {
          "output_type": "stream",
          "name": "stdout",
          "text": [
            "Loaded sheets: dict_keys(['SG项目需求', 'SG项目需求(完成)', 'SG优化需求', 'SG优化需求(完成)', 'HK项目需求', 'HK项目需求(完成)', 'HK优化需求', 'HK优化需求(完成)', '系统模块对应负责人'])\n",
            "\n",
            "--- Sheet: SG项目需求 ---\n",
            "Saved SG项目需求 to uSMART1129_1/SG项目需求.csv\n",
            "\n",
            "--- Sheet: SG项目需求(完成) ---\n",
            "Saved SG项目需求(完成) to uSMART1129_1/SG项目需求(完成).csv\n",
            "\n",
            "--- Sheet: SG优化需求 ---\n",
            "Saved SG优化需求 to uSMART1129_1/SG优化需求.csv\n",
            "\n",
            "--- Sheet: SG优化需求(完成) ---\n",
            "Saved SG优化需求(完成) to uSMART1129_1/SG优化需求(完成).csv\n",
            "\n",
            "--- Sheet: HK项目需求 ---\n",
            "Saved HK项目需求 to uSMART1129_1/HK项目需求.csv\n",
            "\n",
            "--- Sheet: HK项目需求(完成) ---\n",
            "Saved HK项目需求(完成) to uSMART1129_1/HK项目需求(完成).csv\n",
            "\n",
            "--- Sheet: HK优化需求 ---\n",
            "Saved HK优化需求 to uSMART1129_1/HK优化需求.csv\n",
            "\n",
            "--- Sheet: HK优化需求(完成) ---\n",
            "Saved HK优化需求(完成) to uSMART1129_1/HK优化需求(完成).csv\n",
            "\n",
            "--- Sheet: 系统模块对应负责人 ---\n",
            "Saved 系统模块对应负责人 to uSMART1129_1/系统模块对应负责人.csv\n"
          ]
        },
        {
          "output_type": "stream",
          "name": "stderr",
          "text": [
            "/usr/local/lib/python3.10/dist-packages/openpyxl/styles/stylesheet.py:237: UserWarning: Workbook contains no default style, apply openpyxl's default\n",
            "  warn(\"Workbook contains no default style, apply openpyxl's default\")\n"
          ]
        }
      ]
    },
    {
      "cell_type": "markdown",
      "source": [
        "## HK优化"
      ],
      "metadata": {
        "id": "grSxMas_WqqD"
      }
    },
    {
      "cell_type": "markdown",
      "source": [
        "HK优化\n",
        "1、项目总数\n",
        "2、高优先级项目数量"
      ],
      "metadata": {
        "id": "5kX36ZJtT56e"
      }
    },
    {
      "cell_type": "code",
      "source": [
        "import requests\n",
        "import pandas as pd\n",
        "from io import BytesIO\n",
        "\n",
        "# ... (Your existing code for downloading and processing the Excel file) ...\n",
        "\n",
        "# Step 1: Load the CSV file into a DataFrame\n",
        "HKYH = \"HK优化需求.csv\"  # Replace with your actual file name\n",
        "# 拼接文件路径\n",
        "file_path = os.path.join(folder_name, HKYH)\n",
        "HKyhdf_NaN = pd.read_csv(file_path, header=0)\n",
        "HKyhdf_NaN.info()"
      ],
      "metadata": {
        "colab": {
          "base_uri": "https://localhost:8080/"
        },
        "id": "Gc9COX3OUdkS",
        "outputId": "341c5b7e-839a-4f5f-a55b-5507af0b6a49"
      },
      "execution_count": 2,
      "outputs": [
        {
          "output_type": "stream",
          "name": "stdout",
          "text": [
            "<class 'pandas.core.frame.DataFrame'>\n",
            "RangeIndex: 40 entries, 0 to 39\n",
            "Data columns (total 10 columns):\n",
            " #   Column       Non-Null Count  Dtype \n",
            "---  ------       --------------  ----- \n",
            " 0   涉及系统         40 non-null     object\n",
            " 1   优化需求描述       40 non-null     object\n",
            " 2   优先级          21 non-null     object\n",
            " 3   项目阶段         38 non-null     object\n",
            " 4   每周进度更新（中后台）  19 non-null     object\n",
            " 5   中后台版本号       1 non-null      object\n",
            " 6   APP版本        1 non-null      object\n",
            " 7   需求负责人        40 non-null     object\n",
            " 8   开发负责人        1 non-null      object\n",
            " 9   测试负责人        1 non-null      object\n",
            "dtypes: object(10)\n",
            "memory usage: 3.2+ KB\n"
          ]
        }
      ]
    },
    {
      "cell_type": "code",
      "source": [
        "# 只删除【涉及系统】和【需求优化描述】列同时为 NaN 的行\n",
        "HKyhdf = HKyhdf_NaN.dropna(subset=[\"涉及系统\", \"优化需求描述\"], how=\"all\")\n",
        "HKyhdf.info()"
      ],
      "metadata": {
        "colab": {
          "base_uri": "https://localhost:8080/"
        },
        "id": "RE42o01IU954",
        "outputId": "6de11840-493c-49ac-8948-d190c37107f9"
      },
      "execution_count": 3,
      "outputs": [
        {
          "output_type": "stream",
          "name": "stdout",
          "text": [
            "<class 'pandas.core.frame.DataFrame'>\n",
            "RangeIndex: 40 entries, 0 to 39\n",
            "Data columns (total 10 columns):\n",
            " #   Column       Non-Null Count  Dtype \n",
            "---  ------       --------------  ----- \n",
            " 0   涉及系统         40 non-null     object\n",
            " 1   优化需求描述       40 non-null     object\n",
            " 2   优先级          21 non-null     object\n",
            " 3   项目阶段         38 non-null     object\n",
            " 4   每周进度更新（中后台）  19 non-null     object\n",
            " 5   中后台版本号       1 non-null      object\n",
            " 6   APP版本        1 non-null      object\n",
            " 7   需求负责人        40 non-null     object\n",
            " 8   开发负责人        1 non-null      object\n",
            " 9   测试负责人        1 non-null      object\n",
            "dtypes: object(10)\n",
            "memory usage: 3.2+ KB\n"
          ]
        }
      ]
    },
    {
      "cell_type": "code",
      "source": [
        "# prompt: HK优化\n",
        "# 1、项目总数\n",
        "# 2、高优先级项目数量\n",
        "\n",
        "try:\n",
        "    # HKyhdf = pd.read_csv(file_path)\n",
        "    # Calculate total projects and high-priority projects\n",
        "    yh_total_projects = len(HKyhdf)\n",
        "    high_priority_projects = HKyhdf[HKyhdf['优先级'] == '高'] # Assuming a column named '优先级' exists\n",
        "    num_priority = len(high_priority_projects)\n",
        "    print(f\"Total Projects: {yh_total_projects}\")\n",
        "    print(f\"High Priority Projects: {num_priority}\")\n",
        "\n",
        "    # Display the DataFrame (optional)\n",
        "    #HKyhdf\n",
        "except FileNotFoundError:\n",
        "    print(f\"Error: File '{HKYH}' not found.\")\n",
        "except KeyError:\n",
        "    print(\"Error: '优先级' column not found in the CSV file. Please check the column name.\")\n",
        "except Exception as e:\n",
        "    print(f\"An unexpected error occurred: {e}\")"
      ],
      "metadata": {
        "colab": {
          "base_uri": "https://localhost:8080/"
        },
        "id": "40rfJNXSTqSx",
        "outputId": "5466bc18-43e6-4dbc-995e-825f12d70786"
      },
      "execution_count": 4,
      "outputs": [
        {
          "output_type": "stream",
          "name": "stdout",
          "text": [
            "Total Projects: 40\n",
            "High Priority Projects: 12\n"
          ]
        }
      ]
    },
    {
      "cell_type": "code",
      "source": [
        "# 统计各个项目阶段的数量\n",
        "stage_counts = high_priority_projects['项目阶段'].value_counts()\n",
        "stage_counts"
      ],
      "metadata": {
        "colab": {
          "base_uri": "https://localhost:8080/",
          "height": 272
        },
        "id": "KbJtwNzHUUop",
        "outputId": "2e50b0e6-d6cf-4712-cb85-18eef259a3e3"
      },
      "execution_count": 5,
      "outputs": [
        {
          "output_type": "execute_result",
          "data": {
            "text/plain": [
              "项目阶段\n",
              "开发阶段-待排期    6\n",
              "需求调研        2\n",
              "开发阶段-开发中    2\n",
              "UAT产品验收     1\n",
              "技术上线        1\n",
              "Name: count, dtype: int64"
            ],
            "text/html": [
              "<div>\n",
              "<style scoped>\n",
              "    .dataframe tbody tr th:only-of-type {\n",
              "        vertical-align: middle;\n",
              "    }\n",
              "\n",
              "    .dataframe tbody tr th {\n",
              "        vertical-align: top;\n",
              "    }\n",
              "\n",
              "    .dataframe thead th {\n",
              "        text-align: right;\n",
              "    }\n",
              "</style>\n",
              "<table border=\"1\" class=\"dataframe\">\n",
              "  <thead>\n",
              "    <tr style=\"text-align: right;\">\n",
              "      <th></th>\n",
              "      <th>count</th>\n",
              "    </tr>\n",
              "    <tr>\n",
              "      <th>项目阶段</th>\n",
              "      <th></th>\n",
              "    </tr>\n",
              "  </thead>\n",
              "  <tbody>\n",
              "    <tr>\n",
              "      <th>开发阶段-待排期</th>\n",
              "      <td>6</td>\n",
              "    </tr>\n",
              "    <tr>\n",
              "      <th>需求调研</th>\n",
              "      <td>2</td>\n",
              "    </tr>\n",
              "    <tr>\n",
              "      <th>开发阶段-开发中</th>\n",
              "      <td>2</td>\n",
              "    </tr>\n",
              "    <tr>\n",
              "      <th>UAT产品验收</th>\n",
              "      <td>1</td>\n",
              "    </tr>\n",
              "    <tr>\n",
              "      <th>技术上线</th>\n",
              "      <td>1</td>\n",
              "    </tr>\n",
              "  </tbody>\n",
              "</table>\n",
              "</div><br><label><b>dtype:</b> int64</label>"
            ]
          },
          "metadata": {},
          "execution_count": 5
        }
      ]
    },
    {
      "cell_type": "markdown",
      "source": [
        "Answer：根据优先级划分，高优先级需求14个，其中技术上线1个，测试阶段1个，业务对外3个，开发阶段-待排期5个，开发阶段-开发中2个，需求调研2个。"
      ],
      "metadata": {
        "id": "T6IXevxPV8KS"
      }
    },
    {
      "cell_type": "code",
      "source": [
        "yh_total_description = f\"共涉及{yh_total_projects}个需求。根据优先级划分，高优先级需求{num_priority}个，其中\"\n",
        "\n",
        "\n",
        "stage_descriptions = [f\"{stage}{count}个\" for stage, count in stage_counts.items()]\n",
        "yh_total_description += \"，\".join(stage_descriptions) + \"。\"\n",
        "yh_total_description"
      ],
      "metadata": {
        "colab": {
          "base_uri": "https://localhost:8080/",
          "height": 35
        },
        "id": "4E5cE-yFVcbU",
        "outputId": "5bff2bbf-dedc-4d01-896a-877b793d3271"
      },
      "execution_count": 6,
      "outputs": [
        {
          "output_type": "execute_result",
          "data": {
            "text/plain": [
              "'共涉及40个需求。根据优先级划分，高优先级需求12个，其中开发阶段-待排期6个，需求调研2个，开发阶段-开发中2个，UAT产品验收1个，技术上线1个。'"
            ],
            "application/vnd.google.colaboratory.intrinsic+json": {
              "type": "string"
            }
          },
          "metadata": {},
          "execution_count": 6
        }
      ]
    },
    {
      "cell_type": "markdown",
      "source": [
        "## HK项目"
      ],
      "metadata": {
        "id": "-l8ByW81Wdza"
      }
    },
    {
      "cell_type": "markdown",
      "source": [
        "HK项目：\n",
        "1、按优先级总结：【优先级】== 高优先级（数量）--> 总结项目阶段及数量\n",
        "2、按签约状态：【合同状态】(数量) -> 总结 (已签约\\未签约) 项目阶段及数量\n"
      ],
      "metadata": {
        "id": "Jhem3lg_WZvJ"
      }
    },
    {
      "cell_type": "code",
      "source": [
        "# Step 1: Load the CSV file into a DataFrame\n",
        "\n",
        "# 拼接文件路径\n",
        "file_path = os.path.join(folder_name, \"HK项目需求.csv\")\n",
        "\n",
        "df_HK_projects_NaN = pd.read_csv(file_path)\n",
        "\n",
        "df_HK_projects_NaN.info()"
      ],
      "metadata": {
        "colab": {
          "base_uri": "https://localhost:8080/"
        },
        "id": "BP4uXDEVV3w-",
        "outputId": "bb92e657-86fb-4012-cae4-871cebb702d9"
      },
      "execution_count": 7,
      "outputs": [
        {
          "output_type": "stream",
          "name": "stdout",
          "text": [
            "<class 'pandas.core.frame.DataFrame'>\n",
            "RangeIndex: 7 entries, 0 to 6\n",
            "Data columns (total 12 columns):\n",
            " #   Column        Non-Null Count  Dtype \n",
            "---  ------        --------------  ----- \n",
            " 0   涉及系统          7 non-null      object\n",
            " 1   项目名称（项目经理添加）  7 non-null      object\n",
            " 2   需求描述          7 non-null      object\n",
            " 3   优先级           7 non-null      object\n",
            " 4   项目阶段          7 non-null      object\n",
            " 5   每周进度更新（中后台）   7 non-null      object\n",
            " 6   中后台版本号        5 non-null      object\n",
            " 7   APP版本         4 non-null      object\n",
            " 8   合同状态          6 non-null      object\n",
            " 9   需求负责人         6 non-null      object\n",
            " 10  开发负责人         3 non-null      object\n",
            " 11  测试负责人         4 non-null      object\n",
            "dtypes: object(12)\n",
            "memory usage: 800.0+ bytes\n"
          ]
        }
      ]
    },
    {
      "cell_type": "markdown",
      "source": [
        "1、共涉及7个项目，\n",
        "2、根据优先级划分：高优先级项目6个，其中项目阶段为UAT产品验收1个，测试阶段3个，开发阶段-开发中的1个，需求调研的1个；\n",
        "3、根据合同状态划分：5个项目已签约其中UAT产品验收1个，测试阶段3个，开发阶段-待排期1个；\n",
        "4、1个项目未签约-未确认，其中需求调研1个；"
      ],
      "metadata": {
        "id": "K_IJDdF_XV9R"
      }
    },
    {
      "cell_type": "code",
      "source": [
        "# 只删除【涉及系统】和【优化需求描述】列同时为 NaN 的行\n",
        "df_HK_projects = df_HK_projects_NaN.dropna(subset=[\"涉及系统\", \"需求描述\"], how=\"all\")\n",
        "df_HK_projects.info()"
      ],
      "metadata": {
        "colab": {
          "base_uri": "https://localhost:8080/"
        },
        "id": "M_yJ53fIcdkZ",
        "outputId": "c3839e13-b41b-4b99-db72-fd43cb282e46"
      },
      "execution_count": 8,
      "outputs": [
        {
          "output_type": "stream",
          "name": "stdout",
          "text": [
            "<class 'pandas.core.frame.DataFrame'>\n",
            "RangeIndex: 7 entries, 0 to 6\n",
            "Data columns (total 12 columns):\n",
            " #   Column        Non-Null Count  Dtype \n",
            "---  ------        --------------  ----- \n",
            " 0   涉及系统          7 non-null      object\n",
            " 1   项目名称（项目经理添加）  7 non-null      object\n",
            " 2   需求描述          7 non-null      object\n",
            " 3   优先级           7 non-null      object\n",
            " 4   项目阶段          7 non-null      object\n",
            " 5   每周进度更新（中后台）   7 non-null      object\n",
            " 6   中后台版本号        5 non-null      object\n",
            " 7   APP版本         4 non-null      object\n",
            " 8   合同状态          6 non-null      object\n",
            " 9   需求负责人         6 non-null      object\n",
            " 10  开发负责人         3 non-null      object\n",
            " 11  测试负责人         4 non-null      object\n",
            "dtypes: object(12)\n",
            "memory usage: 800.0+ bytes\n"
          ]
        }
      ]
    },
    {
      "cell_type": "code",
      "source": [
        "# prompt: 按优先级总结：【优先级】== 高优先级（数量）--> 总结项目阶段及数量\n",
        "\n",
        "# ... (Your existing code for downloading and processing the Excel file) ...\n",
        "\n",
        "# Step 1: Load the CSV file into a DataFrame\n",
        "try:\n",
        "    #df_HK_projects = pd.read_csv(\"HK项目需求.csv\")\n",
        "\n",
        "    # 1. Total Projects\n",
        "    total_projects = len(df_HK_projects)\n",
        "    print(f\"Total HK Projects: {total_projects}\")\n",
        "\n",
        "    # 2. Summary by Priority\n",
        "    high_priority_projects = df_HK_projects[df_HK_projects['优先级'] == '高']\n",
        "    num_high_priority = len(high_priority_projects)\n",
        "    stage_counts_priority = high_priority_projects['项目阶段'].value_counts()\n",
        "    print(f\"\\nHigh Priority Projects: {num_high_priority}\")\n",
        "    print(\"Project Stages (High Priority):\")\n",
        "    print(stage_counts_priority)\n",
        "\n",
        "\n",
        "    # 3. Summary by Contract Status\n",
        "    signed_projects = df_HK_projects[df_HK_projects['合同状态'] == '已签约']\n",
        "    num_signed = len(signed_projects)\n",
        "    stage_counts_signed = signed_projects['项目阶段'].value_counts()\n",
        "    print(f\"\\nSigned Projects: {num_signed}\")\n",
        "    print(\"Project Stages (Signed):\")\n",
        "    print(stage_counts_signed)\n",
        "\n",
        "    # unsigned_projects = df_HK_projects[df_HK_projects['合同状态'] == '未签约']\n",
        "    unsigned_projects = df_HK_projects[df_HK_projects['合同状态'].str.contains('未签约', na=False)]\n",
        "    num_unsigned = len(unsigned_projects)\n",
        "    stage_counts_unsigned = unsigned_projects['项目阶段'].value_counts()\n",
        "    print(f\"\\nUnsigned Projects: {num_unsigned}\")\n",
        "    print(\"Project Stages (Unsigned):\")\n",
        "    print(stage_counts_unsigned)\n",
        "\n",
        "except FileNotFoundError:\n",
        "    print(f\"Error: File 'HK项目需求.csv' not found.\")\n",
        "except KeyError as e:\n",
        "    print(f\"Error: Column '{e}' not found in the CSV file. Please check the column name.\")\n",
        "except Exception as e:\n",
        "    print(f\"An unexpected error occurred: {e}\")"
      ],
      "metadata": {
        "colab": {
          "base_uri": "https://localhost:8080/"
        },
        "id": "-kTbw_e4XCxY",
        "outputId": "fe0d839e-aabe-4cb1-9033-7d03d404c75c"
      },
      "execution_count": 9,
      "outputs": [
        {
          "output_type": "stream",
          "name": "stdout",
          "text": [
            "Total HK Projects: 7\n",
            "\n",
            "High Priority Projects: 6\n",
            "Project Stages (High Priority):\n",
            "项目阶段\n",
            "测试阶段         2\n",
            "生产灰度/生产验证    1\n",
            "UAT产品验收      1\n",
            "开发阶段-开发中     1\n",
            "需求调研         1\n",
            "Name: count, dtype: int64\n",
            "\n",
            "Signed Projects: 5\n",
            "Project Stages (Signed):\n",
            "项目阶段\n",
            "测试阶段         2\n",
            "生产灰度/生产验证    1\n",
            "UAT产品验收      1\n",
            "开发阶段-待排期     1\n",
            "Name: count, dtype: int64\n",
            "\n",
            "Unsigned Projects: 1\n",
            "Project Stages (Unsigned):\n",
            "项目阶段\n",
            "需求调研    1\n",
            "Name: count, dtype: int64\n"
          ]
        }
      ]
    },
    {
      "cell_type": "markdown",
      "source": [
        "共涉及7个项目，\n",
        "根据优先级划分：高优先级项目6个，其中项目阶段为UAT产品验收1个，测试阶段3个，开发阶段-开发中的1个，需求调研的1个；\n",
        "\n",
        "根据合同状态划分：5个项目已签约其中UAT产品验收1个，测试阶段3个，开发阶段-待排期1个；\n",
        "1个项目未签约-未确认，其中需求调研1个；"
      ],
      "metadata": {
        "id": "D0AOKR1UYL5d"
      }
    },
    {
      "cell_type": "code",
      "source": [
        "proj_total_desc = f\"共涉及{total_projects}个项目， 根据优先级划分：\"\n",
        "proj_high_priority_desc = proj_total_desc + f\"高优先级项目{num_high_priority}个，其中项目阶段为\"\n",
        "high_stage_desc = [f\"{stage}{count}个\" for stage, count in stage_counts_priority.items()]\n",
        "proj_high_priority_desc += \"，\".join(high_stage_desc)\n",
        "# high_priority_projects\n",
        "proj_high_priority_desc\n"
      ],
      "metadata": {
        "colab": {
          "base_uri": "https://localhost:8080/",
          "height": 35
        },
        "id": "wBsAnnERYWFN",
        "outputId": "c1dd089e-2d19-4c95-ac45-bde887b9501b"
      },
      "execution_count": 10,
      "outputs": [
        {
          "output_type": "execute_result",
          "data": {
            "text/plain": [
              "'共涉及7个项目， 根据优先级划分：高优先级项目6个，其中项目阶段为测试阶段2个，生产灰度/生产验证1个，UAT产品验收1个，开发阶段-开发中1个，需求调研1个'"
            ],
            "application/vnd.google.colaboratory.intrinsic+json": {
              "type": "string"
            }
          },
          "metadata": {},
          "execution_count": 10
        }
      ]
    },
    {
      "cell_type": "code",
      "source": [
        "proj_signed_desc = f\"根据合同状态划分：{num_signed}个项目已签约。其中\"\n",
        "signed_stage_desc = [f\"{stage}{count}个\" for stage, count in stage_counts_signed.items()]\n",
        "proj_signed_desc += \"，\".join(signed_stage_desc)\n",
        "proj_signed_desc"
      ],
      "metadata": {
        "colab": {
          "base_uri": "https://localhost:8080/",
          "height": 35
        },
        "id": "WUh7M6KqYV9B",
        "outputId": "e6824b76-77aa-4dbc-aa3d-aefb9c2d2e0e"
      },
      "execution_count": 11,
      "outputs": [
        {
          "output_type": "execute_result",
          "data": {
            "text/plain": [
              "'根据合同状态划分：5个项目已签约。其中测试阶段2个，生产灰度/生产验证1个，UAT产品验收1个，开发阶段-待排期1个'"
            ],
            "application/vnd.google.colaboratory.intrinsic+json": {
              "type": "string"
            }
          },
          "metadata": {},
          "execution_count": 11
        }
      ]
    },
    {
      "cell_type": "markdown",
      "source": [
        "### 未签约"
      ],
      "metadata": {
        "id": "AjU7QPeI-8ba"
      }
    },
    {
      "cell_type": "code",
      "source": [
        "proj_unsigned_desc = f\"根据合同状态划分：{num_unsigned}个项目\"+unsigned_projects.合同状态"
      ],
      "metadata": {
        "id": "QETvjONFae7u"
      },
      "execution_count": 12,
      "outputs": []
    },
    {
      "cell_type": "code",
      "source": [
        "unsigned_projects"
      ],
      "metadata": {
        "colab": {
          "base_uri": "https://localhost:8080/",
          "height": 89
        },
        "id": "q5FPTeXGbRxu",
        "outputId": "5ab190fa-15d3-4400-caff-e33aa67c1a0f"
      },
      "execution_count": 13,
      "outputs": [
        {
          "output_type": "execute_result",
          "data": {
            "text/plain": [
              "  涉及系统 项目名称（项目经理添加）        需求描述 优先级  项目阶段         每周进度更新（中后台） 中后台版本号 APP版本  \\\n",
              "6   财富     统一金融记账平台  支持债券、票据的簿记   高  需求调研  已评审待排期\\n评审时间：11/28    NaN   NaN   \n",
              "\n",
              "      合同状态      需求负责人 开发负责人 测试负责人  \n",
              "6  未签约-未确认  @邹博先(Ray)   NaN   NaN  "
            ],
            "text/html": [
              "\n",
              "  <div id=\"df-69d934bf-4253-46e7-9c4d-7e14dfc88b40\" class=\"colab-df-container\">\n",
              "    <div>\n",
              "<style scoped>\n",
              "    .dataframe tbody tr th:only-of-type {\n",
              "        vertical-align: middle;\n",
              "    }\n",
              "\n",
              "    .dataframe tbody tr th {\n",
              "        vertical-align: top;\n",
              "    }\n",
              "\n",
              "    .dataframe thead th {\n",
              "        text-align: right;\n",
              "    }\n",
              "</style>\n",
              "<table border=\"1\" class=\"dataframe\">\n",
              "  <thead>\n",
              "    <tr style=\"text-align: right;\">\n",
              "      <th></th>\n",
              "      <th>涉及系统</th>\n",
              "      <th>项目名称（项目经理添加）</th>\n",
              "      <th>需求描述</th>\n",
              "      <th>优先级</th>\n",
              "      <th>项目阶段</th>\n",
              "      <th>每周进度更新（中后台）</th>\n",
              "      <th>中后台版本号</th>\n",
              "      <th>APP版本</th>\n",
              "      <th>合同状态</th>\n",
              "      <th>需求负责人</th>\n",
              "      <th>开发负责人</th>\n",
              "      <th>测试负责人</th>\n",
              "    </tr>\n",
              "  </thead>\n",
              "  <tbody>\n",
              "    <tr>\n",
              "      <th>6</th>\n",
              "      <td>财富</td>\n",
              "      <td>统一金融记账平台</td>\n",
              "      <td>支持债券、票据的簿记</td>\n",
              "      <td>高</td>\n",
              "      <td>需求调研</td>\n",
              "      <td>已评审待排期\\n评审时间：11/28</td>\n",
              "      <td>NaN</td>\n",
              "      <td>NaN</td>\n",
              "      <td>未签约-未确认</td>\n",
              "      <td>@邹博先(Ray)</td>\n",
              "      <td>NaN</td>\n",
              "      <td>NaN</td>\n",
              "    </tr>\n",
              "  </tbody>\n",
              "</table>\n",
              "</div>\n",
              "    <div class=\"colab-df-buttons\">\n",
              "\n",
              "  <div class=\"colab-df-container\">\n",
              "    <button class=\"colab-df-convert\" onclick=\"convertToInteractive('df-69d934bf-4253-46e7-9c4d-7e14dfc88b40')\"\n",
              "            title=\"Convert this dataframe to an interactive table.\"\n",
              "            style=\"display:none;\">\n",
              "\n",
              "  <svg xmlns=\"http://www.w3.org/2000/svg\" height=\"24px\" viewBox=\"0 -960 960 960\">\n",
              "    <path d=\"M120-120v-720h720v720H120Zm60-500h600v-160H180v160Zm220 220h160v-160H400v160Zm0 220h160v-160H400v160ZM180-400h160v-160H180v160Zm440 0h160v-160H620v160ZM180-180h160v-160H180v160Zm440 0h160v-160H620v160Z\"/>\n",
              "  </svg>\n",
              "    </button>\n",
              "\n",
              "  <style>\n",
              "    .colab-df-container {\n",
              "      display:flex;\n",
              "      gap: 12px;\n",
              "    }\n",
              "\n",
              "    .colab-df-convert {\n",
              "      background-color: #E8F0FE;\n",
              "      border: none;\n",
              "      border-radius: 50%;\n",
              "      cursor: pointer;\n",
              "      display: none;\n",
              "      fill: #1967D2;\n",
              "      height: 32px;\n",
              "      padding: 0 0 0 0;\n",
              "      width: 32px;\n",
              "    }\n",
              "\n",
              "    .colab-df-convert:hover {\n",
              "      background-color: #E2EBFA;\n",
              "      box-shadow: 0px 1px 2px rgba(60, 64, 67, 0.3), 0px 1px 3px 1px rgba(60, 64, 67, 0.15);\n",
              "      fill: #174EA6;\n",
              "    }\n",
              "\n",
              "    .colab-df-buttons div {\n",
              "      margin-bottom: 4px;\n",
              "    }\n",
              "\n",
              "    [theme=dark] .colab-df-convert {\n",
              "      background-color: #3B4455;\n",
              "      fill: #D2E3FC;\n",
              "    }\n",
              "\n",
              "    [theme=dark] .colab-df-convert:hover {\n",
              "      background-color: #434B5C;\n",
              "      box-shadow: 0px 1px 3px 1px rgba(0, 0, 0, 0.15);\n",
              "      filter: drop-shadow(0px 1px 2px rgba(0, 0, 0, 0.3));\n",
              "      fill: #FFFFFF;\n",
              "    }\n",
              "  </style>\n",
              "\n",
              "    <script>\n",
              "      const buttonEl =\n",
              "        document.querySelector('#df-69d934bf-4253-46e7-9c4d-7e14dfc88b40 button.colab-df-convert');\n",
              "      buttonEl.style.display =\n",
              "        google.colab.kernel.accessAllowed ? 'block' : 'none';\n",
              "\n",
              "      async function convertToInteractive(key) {\n",
              "        const element = document.querySelector('#df-69d934bf-4253-46e7-9c4d-7e14dfc88b40');\n",
              "        const dataTable =\n",
              "          await google.colab.kernel.invokeFunction('convertToInteractive',\n",
              "                                                    [key], {});\n",
              "        if (!dataTable) return;\n",
              "\n",
              "        const docLinkHtml = 'Like what you see? Visit the ' +\n",
              "          '<a target=\"_blank\" href=https://colab.research.google.com/notebooks/data_table.ipynb>data table notebook</a>'\n",
              "          + ' to learn more about interactive tables.';\n",
              "        element.innerHTML = '';\n",
              "        dataTable['output_type'] = 'display_data';\n",
              "        await google.colab.output.renderOutput(dataTable, element);\n",
              "        const docLink = document.createElement('div');\n",
              "        docLink.innerHTML = docLinkHtml;\n",
              "        element.appendChild(docLink);\n",
              "      }\n",
              "    </script>\n",
              "  </div>\n",
              "\n",
              "\n",
              "  <div id=\"id_d4a5e6b8-f3e3-4d9d-a70e-35cdc078c69a\">\n",
              "    <style>\n",
              "      .colab-df-generate {\n",
              "        background-color: #E8F0FE;\n",
              "        border: none;\n",
              "        border-radius: 50%;\n",
              "        cursor: pointer;\n",
              "        display: none;\n",
              "        fill: #1967D2;\n",
              "        height: 32px;\n",
              "        padding: 0 0 0 0;\n",
              "        width: 32px;\n",
              "      }\n",
              "\n",
              "      .colab-df-generate:hover {\n",
              "        background-color: #E2EBFA;\n",
              "        box-shadow: 0px 1px 2px rgba(60, 64, 67, 0.3), 0px 1px 3px 1px rgba(60, 64, 67, 0.15);\n",
              "        fill: #174EA6;\n",
              "      }\n",
              "\n",
              "      [theme=dark] .colab-df-generate {\n",
              "        background-color: #3B4455;\n",
              "        fill: #D2E3FC;\n",
              "      }\n",
              "\n",
              "      [theme=dark] .colab-df-generate:hover {\n",
              "        background-color: #434B5C;\n",
              "        box-shadow: 0px 1px 3px 1px rgba(0, 0, 0, 0.15);\n",
              "        filter: drop-shadow(0px 1px 2px rgba(0, 0, 0, 0.3));\n",
              "        fill: #FFFFFF;\n",
              "      }\n",
              "    </style>\n",
              "    <button class=\"colab-df-generate\" onclick=\"generateWithVariable('unsigned_projects')\"\n",
              "            title=\"Generate code using this dataframe.\"\n",
              "            style=\"display:none;\">\n",
              "\n",
              "  <svg xmlns=\"http://www.w3.org/2000/svg\" height=\"24px\"viewBox=\"0 0 24 24\"\n",
              "       width=\"24px\">\n",
              "    <path d=\"M7,19H8.4L18.45,9,17,7.55,7,17.6ZM5,21V16.75L18.45,3.32a2,2,0,0,1,2.83,0l1.4,1.43a1.91,1.91,0,0,1,.58,1.4,1.91,1.91,0,0,1-.58,1.4L9.25,21ZM18.45,9,17,7.55Zm-12,3A5.31,5.31,0,0,0,4.9,8.1,5.31,5.31,0,0,0,1,6.5,5.31,5.31,0,0,0,4.9,4.9,5.31,5.31,0,0,0,6.5,1,5.31,5.31,0,0,0,8.1,4.9,5.31,5.31,0,0,0,12,6.5,5.46,5.46,0,0,0,6.5,12Z\"/>\n",
              "  </svg>\n",
              "    </button>\n",
              "    <script>\n",
              "      (() => {\n",
              "      const buttonEl =\n",
              "        document.querySelector('#id_d4a5e6b8-f3e3-4d9d-a70e-35cdc078c69a button.colab-df-generate');\n",
              "      buttonEl.style.display =\n",
              "        google.colab.kernel.accessAllowed ? 'block' : 'none';\n",
              "\n",
              "      buttonEl.onclick = () => {\n",
              "        google.colab.notebook.generateWithVariable('unsigned_projects');\n",
              "      }\n",
              "      })();\n",
              "    </script>\n",
              "  </div>\n",
              "\n",
              "    </div>\n",
              "  </div>\n"
            ],
            "application/vnd.google.colaboratory.intrinsic+json": {
              "type": "dataframe",
              "variable_name": "unsigned_projects",
              "repr_error": "0"
            }
          },
          "metadata": {},
          "execution_count": 13
        }
      ]
    },
    {
      "cell_type": "code",
      "source": [
        "# Step 1: 按合同状态和项目阶段分组统计\n",
        "status_stage_counts = unsigned_projects.groupby(['合同状态', '项目阶段']).size().reset_index(name='数量')\n",
        "status_stage_counts"
      ],
      "metadata": {
        "colab": {
          "base_uri": "https://localhost:8080/",
          "height": 89
        },
        "id": "mU_gxkHwbSR-",
        "outputId": "e831a37a-d9da-4999-839c-35dc5651db43"
      },
      "execution_count": 14,
      "outputs": [
        {
          "output_type": "execute_result",
          "data": {
            "text/plain": [
              "      合同状态  项目阶段  数量\n",
              "0  未签约-未确认  需求调研   1"
            ],
            "text/html": [
              "\n",
              "  <div id=\"df-3d6a412e-231a-480e-9da8-803a02cf4a78\" class=\"colab-df-container\">\n",
              "    <div>\n",
              "<style scoped>\n",
              "    .dataframe tbody tr th:only-of-type {\n",
              "        vertical-align: middle;\n",
              "    }\n",
              "\n",
              "    .dataframe tbody tr th {\n",
              "        vertical-align: top;\n",
              "    }\n",
              "\n",
              "    .dataframe thead th {\n",
              "        text-align: right;\n",
              "    }\n",
              "</style>\n",
              "<table border=\"1\" class=\"dataframe\">\n",
              "  <thead>\n",
              "    <tr style=\"text-align: right;\">\n",
              "      <th></th>\n",
              "      <th>合同状态</th>\n",
              "      <th>项目阶段</th>\n",
              "      <th>数量</th>\n",
              "    </tr>\n",
              "  </thead>\n",
              "  <tbody>\n",
              "    <tr>\n",
              "      <th>0</th>\n",
              "      <td>未签约-未确认</td>\n",
              "      <td>需求调研</td>\n",
              "      <td>1</td>\n",
              "    </tr>\n",
              "  </tbody>\n",
              "</table>\n",
              "</div>\n",
              "    <div class=\"colab-df-buttons\">\n",
              "\n",
              "  <div class=\"colab-df-container\">\n",
              "    <button class=\"colab-df-convert\" onclick=\"convertToInteractive('df-3d6a412e-231a-480e-9da8-803a02cf4a78')\"\n",
              "            title=\"Convert this dataframe to an interactive table.\"\n",
              "            style=\"display:none;\">\n",
              "\n",
              "  <svg xmlns=\"http://www.w3.org/2000/svg\" height=\"24px\" viewBox=\"0 -960 960 960\">\n",
              "    <path d=\"M120-120v-720h720v720H120Zm60-500h600v-160H180v160Zm220 220h160v-160H400v160Zm0 220h160v-160H400v160ZM180-400h160v-160H180v160Zm440 0h160v-160H620v160ZM180-180h160v-160H180v160Zm440 0h160v-160H620v160Z\"/>\n",
              "  </svg>\n",
              "    </button>\n",
              "\n",
              "  <style>\n",
              "    .colab-df-container {\n",
              "      display:flex;\n",
              "      gap: 12px;\n",
              "    }\n",
              "\n",
              "    .colab-df-convert {\n",
              "      background-color: #E8F0FE;\n",
              "      border: none;\n",
              "      border-radius: 50%;\n",
              "      cursor: pointer;\n",
              "      display: none;\n",
              "      fill: #1967D2;\n",
              "      height: 32px;\n",
              "      padding: 0 0 0 0;\n",
              "      width: 32px;\n",
              "    }\n",
              "\n",
              "    .colab-df-convert:hover {\n",
              "      background-color: #E2EBFA;\n",
              "      box-shadow: 0px 1px 2px rgba(60, 64, 67, 0.3), 0px 1px 3px 1px rgba(60, 64, 67, 0.15);\n",
              "      fill: #174EA6;\n",
              "    }\n",
              "\n",
              "    .colab-df-buttons div {\n",
              "      margin-bottom: 4px;\n",
              "    }\n",
              "\n",
              "    [theme=dark] .colab-df-convert {\n",
              "      background-color: #3B4455;\n",
              "      fill: #D2E3FC;\n",
              "    }\n",
              "\n",
              "    [theme=dark] .colab-df-convert:hover {\n",
              "      background-color: #434B5C;\n",
              "      box-shadow: 0px 1px 3px 1px rgba(0, 0, 0, 0.15);\n",
              "      filter: drop-shadow(0px 1px 2px rgba(0, 0, 0, 0.3));\n",
              "      fill: #FFFFFF;\n",
              "    }\n",
              "  </style>\n",
              "\n",
              "    <script>\n",
              "      const buttonEl =\n",
              "        document.querySelector('#df-3d6a412e-231a-480e-9da8-803a02cf4a78 button.colab-df-convert');\n",
              "      buttonEl.style.display =\n",
              "        google.colab.kernel.accessAllowed ? 'block' : 'none';\n",
              "\n",
              "      async function convertToInteractive(key) {\n",
              "        const element = document.querySelector('#df-3d6a412e-231a-480e-9da8-803a02cf4a78');\n",
              "        const dataTable =\n",
              "          await google.colab.kernel.invokeFunction('convertToInteractive',\n",
              "                                                    [key], {});\n",
              "        if (!dataTable) return;\n",
              "\n",
              "        const docLinkHtml = 'Like what you see? Visit the ' +\n",
              "          '<a target=\"_blank\" href=https://colab.research.google.com/notebooks/data_table.ipynb>data table notebook</a>'\n",
              "          + ' to learn more about interactive tables.';\n",
              "        element.innerHTML = '';\n",
              "        dataTable['output_type'] = 'display_data';\n",
              "        await google.colab.output.renderOutput(dataTable, element);\n",
              "        const docLink = document.createElement('div');\n",
              "        docLink.innerHTML = docLinkHtml;\n",
              "        element.appendChild(docLink);\n",
              "      }\n",
              "    </script>\n",
              "  </div>\n",
              "\n",
              "\n",
              "  <div id=\"id_bce8ff37-6a21-4d1e-9b40-717428ecd896\">\n",
              "    <style>\n",
              "      .colab-df-generate {\n",
              "        background-color: #E8F0FE;\n",
              "        border: none;\n",
              "        border-radius: 50%;\n",
              "        cursor: pointer;\n",
              "        display: none;\n",
              "        fill: #1967D2;\n",
              "        height: 32px;\n",
              "        padding: 0 0 0 0;\n",
              "        width: 32px;\n",
              "      }\n",
              "\n",
              "      .colab-df-generate:hover {\n",
              "        background-color: #E2EBFA;\n",
              "        box-shadow: 0px 1px 2px rgba(60, 64, 67, 0.3), 0px 1px 3px 1px rgba(60, 64, 67, 0.15);\n",
              "        fill: #174EA6;\n",
              "      }\n",
              "\n",
              "      [theme=dark] .colab-df-generate {\n",
              "        background-color: #3B4455;\n",
              "        fill: #D2E3FC;\n",
              "      }\n",
              "\n",
              "      [theme=dark] .colab-df-generate:hover {\n",
              "        background-color: #434B5C;\n",
              "        box-shadow: 0px 1px 3px 1px rgba(0, 0, 0, 0.15);\n",
              "        filter: drop-shadow(0px 1px 2px rgba(0, 0, 0, 0.3));\n",
              "        fill: #FFFFFF;\n",
              "      }\n",
              "    </style>\n",
              "    <button class=\"colab-df-generate\" onclick=\"generateWithVariable('status_stage_counts')\"\n",
              "            title=\"Generate code using this dataframe.\"\n",
              "            style=\"display:none;\">\n",
              "\n",
              "  <svg xmlns=\"http://www.w3.org/2000/svg\" height=\"24px\"viewBox=\"0 0 24 24\"\n",
              "       width=\"24px\">\n",
              "    <path d=\"M7,19H8.4L18.45,9,17,7.55,7,17.6ZM5,21V16.75L18.45,3.32a2,2,0,0,1,2.83,0l1.4,1.43a1.91,1.91,0,0,1,.58,1.4,1.91,1.91,0,0,1-.58,1.4L9.25,21ZM18.45,9,17,7.55Zm-12,3A5.31,5.31,0,0,0,4.9,8.1,5.31,5.31,0,0,0,1,6.5,5.31,5.31,0,0,0,4.9,4.9,5.31,5.31,0,0,0,6.5,1,5.31,5.31,0,0,0,8.1,4.9,5.31,5.31,0,0,0,12,6.5,5.46,5.46,0,0,0,6.5,12Z\"/>\n",
              "  </svg>\n",
              "    </button>\n",
              "    <script>\n",
              "      (() => {\n",
              "      const buttonEl =\n",
              "        document.querySelector('#id_bce8ff37-6a21-4d1e-9b40-717428ecd896 button.colab-df-generate');\n",
              "      buttonEl.style.display =\n",
              "        google.colab.kernel.accessAllowed ? 'block' : 'none';\n",
              "\n",
              "      buttonEl.onclick = () => {\n",
              "        google.colab.notebook.generateWithVariable('status_stage_counts');\n",
              "      }\n",
              "      })();\n",
              "    </script>\n",
              "  </div>\n",
              "\n",
              "    </div>\n",
              "  </div>\n"
            ],
            "application/vnd.google.colaboratory.intrinsic+json": {
              "type": "dataframe",
              "variable_name": "status_stage_counts",
              "summary": "{\n  \"name\": \"status_stage_counts\",\n  \"rows\": 1,\n  \"fields\": [\n    {\n      \"column\": \"\\u5408\\u540c\\u72b6\\u6001\",\n      \"properties\": {\n        \"dtype\": \"string\",\n        \"num_unique_values\": 1,\n        \"samples\": [\n          \"\\u672a\\u7b7e\\u7ea6-\\u672a\\u786e\\u8ba4\"\n        ],\n        \"semantic_type\": \"\",\n        \"description\": \"\"\n      }\n    },\n    {\n      \"column\": \"\\u9879\\u76ee\\u9636\\u6bb5\",\n      \"properties\": {\n        \"dtype\": \"string\",\n        \"num_unique_values\": 1,\n        \"samples\": [\n          \"\\u9700\\u6c42\\u8c03\\u7814\"\n        ],\n        \"semantic_type\": \"\",\n        \"description\": \"\"\n      }\n    },\n    {\n      \"column\": \"\\u6570\\u91cf\",\n      \"properties\": {\n        \"dtype\": \"number\",\n        \"std\": null,\n        \"min\": 1,\n        \"max\": 1,\n        \"num_unique_values\": 1,\n        \"samples\": [\n          1\n        ],\n        \"semantic_type\": \"\",\n        \"description\": \"\"\n      }\n    }\n  ]\n}"
            }
          },
          "metadata": {},
          "execution_count": 14
        }
      ]
    },
    {
      "cell_type": "code",
      "source": [
        "# Step 2: 按合同状态生成描述性字符串\n",
        "output = []\n",
        "for status, group in status_stage_counts.groupby('合同状态'):\n",
        "    total_count = group['数量'].sum()  # 计算该合同状态下的总项目数\n",
        "    description = f\"{total_count}个项目{status}，其中\"\n",
        "\n",
        "    # 按项目阶段生成子描述\n",
        "    stage_descriptions = [f\"{row['项目阶段']}{row['数量']}个\" for _, row in group.iterrows()]\n",
        "    description += \"，\".join(stage_descriptions) + \"；\"\n",
        "    output.append(description)"
      ],
      "metadata": {
        "id": "MbOaoxe1-ZLF"
      },
      "execution_count": 15,
      "outputs": []
    },
    {
      "cell_type": "code",
      "source": [
        "# Step 3: 拼接最终输出\n",
        "unsigned_final_description = \" \".join(output)\n",
        "print(unsigned_final_description)"
      ],
      "metadata": {
        "colab": {
          "base_uri": "https://localhost:8080/"
        },
        "id": "X0l1AKE1-vdM",
        "outputId": "ba742ced-d2a2-4405-db8a-1e3c939cd044"
      },
      "execution_count": 16,
      "outputs": [
        {
          "output_type": "stream",
          "name": "stdout",
          "text": [
            "1个项目未签约-未确认，其中需求调研1个；\n"
          ]
        }
      ]
    },
    {
      "cell_type": "markdown",
      "source": [
        "## Result"
      ],
      "metadata": {
        "id": "76jp2y_VCtNO"
      }
    },
    {
      "cell_type": "code",
      "source": [
        "from datetime import datetime\n",
        "\n",
        "# 获取当前时间\n",
        "current_time = datetime.now()\n",
        "\n",
        "# 格式化输出当前时间\n",
        "print(\"当前时间:\", current_time)\n"
      ],
      "metadata": {
        "colab": {
          "base_uri": "https://localhost:8080/"
        },
        "id": "VfcD5iABHoWE",
        "outputId": "7af4cc63-ad19-48b0-f1e9-28ac2e0c8256"
      },
      "execution_count": 17,
      "outputs": [
        {
          "output_type": "stream",
          "name": "stdout",
          "text": [
            "当前时间: 2024-11-29 08:32:25.464691\n"
          ]
        }
      ]
    },
    {
      "cell_type": "code",
      "source": [
        "# HK项目\n",
        "print(proj_high_priority_desc+\"；\")\n",
        "print(proj_signed_desc+\"；\"+unsigned_final_description)"
      ],
      "metadata": {
        "colab": {
          "base_uri": "https://localhost:8080/"
        },
        "id": "4yoaD2_u-xDu",
        "outputId": "40c334ec-6dac-419e-f1c8-3617c17234ff"
      },
      "execution_count": 18,
      "outputs": [
        {
          "output_type": "stream",
          "name": "stdout",
          "text": [
            "共涉及7个项目， 根据优先级划分：高优先级项目6个，其中项目阶段为测试阶段2个，生产灰度/生产验证1个，UAT产品验收1个，开发阶段-开发中1个，需求调研1个；\n",
            "根据合同状态划分：5个项目已签约。其中测试阶段2个，生产灰度/生产验证1个，UAT产品验收1个，开发阶段-待排期1个；1个项目未签约-未确认，其中需求调研1个；\n"
          ]
        }
      ]
    },
    {
      "cell_type": "code",
      "source": [
        "# HK优化\n",
        "yh_total_description"
      ],
      "metadata": {
        "colab": {
          "base_uri": "https://localhost:8080/",
          "height": 35
        },
        "id": "noWn2UrPDqe-",
        "outputId": "fb395006-9f95-4e0d-80a5-f67eace102f1"
      },
      "execution_count": 19,
      "outputs": [
        {
          "output_type": "execute_result",
          "data": {
            "text/plain": [
              "'共涉及40个需求。根据优先级划分，高优先级需求12个，其中开发阶段-待排期6个，需求调研2个，开发阶段-开发中2个，UAT产品验收1个，技术上线1个。'"
            ],
            "application/vnd.google.colaboratory.intrinsic+json": {
              "type": "string"
            }
          },
          "metadata": {},
          "execution_count": 19
        }
      ]
    }
  ]
}