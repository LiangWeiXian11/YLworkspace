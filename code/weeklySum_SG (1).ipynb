{
  "nbformat": 4,
  "nbformat_minor": 0,
  "metadata": {
    "colab": {
      "provenance": []
    },
    "kernelspec": {
      "name": "python3",
      "display_name": "Python 3"
    },
    "language_info": {
      "name": "python"
    }
  },
  "cells": [
    {
      "cell_type": "markdown",
      "source": [
        "## Import Data"
      ],
      "metadata": {
        "id": "JYe1CReyWw-s"
      }
    },
    {
      "cell_type": "code",
      "source": [
        "import requests\n",
        "import pandas as pd\n",
        "from io import BytesIO\n",
        "import os\n",
        "\n",
        "# GitHub raw URL for the Excel file\n",
        "url = \"https://github.com/LiangWeiXian11/YLworkspace/raw/main/uSMART1129.xlsx\"\n",
        "# url = \"https://github.com/LiangWeiXian11/YLworkspace/raw/main/uSMART1115.xlsx\"\n",
        "\n",
        "# Step 1: Extract file name from URL and use it as folder name (without extension)\n",
        "file_name = os.path.basename(url)  # Extract \"uSMART1122.xlsx\"\n",
        "folder_name = os.path.splitext(file_name)[0]  # Extract \"uSMART1122\" by removing extension\n",
        "\n",
        "# Directory to save CSV files\n",
        "output_dir = folder_name\n",
        "\n",
        "# Step 2: *Create* the output directory if it doesn't exist\n",
        "if not os.path.exists(output_dir):\n",
        "    os.makedirs(output_dir)\n",
        "\n",
        "# Step 1: Download the Excel file\n",
        "response = requests.get(url)\n",
        "if response.status_code == 200:\n",
        "    # Step 2: Load the Excel file into a dictionary of DataFrames\n",
        "    excel_data = BytesIO(response.content)\n",
        "    sheets = pd.read_excel(excel_data, sheet_name=None)  # Load all sheets\n",
        "    print(\"Loaded sheets:\", sheets.keys())  # Display sheet names\n",
        "\n",
        "    # Step 3: Process each sheet separately\n",
        "    for sheet_name, df in sheets.items():\n",
        "        print(f\"\\n--- Sheet: {sheet_name} ---\")\n",
        "        # print(df.info())  # Display the first few rows of the sheet\n",
        "\n",
        "        # Step 5: Save each sheet as a separate CSV file in the output directory\n",
        "        output_filename = os.path.join(output_dir, f\"{sheet_name}.csv\")\n",
        "        df.to_csv(output_filename, index=False)\n",
        "        print(f\"Saved {sheet_name} to {output_filename}\")\n",
        "else:\n",
        "    print(\"Failed to download the file. Check the URL or your internet connection.\")\n"
      ],
      "metadata": {
        "colab": {
          "base_uri": "https://localhost:8080/"
        },
        "id": "xQJ7b25xRByJ",
        "outputId": "f9b49d95-4d64-4c92-c28e-d4f6113e1370"
      },
      "execution_count": 1,
      "outputs": [
        {
          "output_type": "stream",
          "name": "stdout",
          "text": [
            "Loaded sheets: dict_keys(['SG项目需求', 'SG项目需求(完成)', 'SG优化需求', 'SG优化需求(完成)', 'HK项目需求', 'HK项目需求(完成)', 'HK优化需求', 'HK优化需求(完成)', '系统模块对应负责人'])\n",
            "\n",
            "--- Sheet: SG项目需求 ---\n",
            "Saved SG项目需求 to uSMART1129/SG项目需求.csv\n",
            "\n",
            "--- Sheet: SG项目需求(完成) ---\n",
            "Saved SG项目需求(完成) to uSMART1129/SG项目需求(完成).csv\n",
            "\n",
            "--- Sheet: SG优化需求 ---\n",
            "Saved SG优化需求 to uSMART1129/SG优化需求.csv\n",
            "\n",
            "--- Sheet: SG优化需求(完成) ---\n",
            "Saved SG优化需求(完成) to uSMART1129/SG优化需求(完成).csv\n",
            "\n",
            "--- Sheet: HK项目需求 ---\n",
            "Saved HK项目需求 to uSMART1129/HK项目需求.csv\n",
            "\n",
            "--- Sheet: HK项目需求(完成) ---\n",
            "Saved HK项目需求(完成) to uSMART1129/HK项目需求(完成).csv\n",
            "\n",
            "--- Sheet: HK优化需求 ---\n",
            "Saved HK优化需求 to uSMART1129/HK优化需求.csv\n",
            "\n",
            "--- Sheet: HK优化需求(完成) ---\n",
            "Saved HK优化需求(完成) to uSMART1129/HK优化需求(完成).csv\n",
            "\n",
            "--- Sheet: 系统模块对应负责人 ---\n",
            "Saved 系统模块对应负责人 to uSMART1129/系统模块对应负责人.csv\n"
          ]
        },
        {
          "output_type": "stream",
          "name": "stderr",
          "text": [
            "/usr/local/lib/python3.10/dist-packages/openpyxl/styles/stylesheet.py:237: UserWarning: Workbook contains no default style, apply openpyxl's default\n",
            "  warn(\"Workbook contains no default style, apply openpyxl's default\")\n"
          ]
        }
      ]
    },
    {
      "cell_type": "markdown",
      "source": [
        "## SG优化"
      ],
      "metadata": {
        "id": "grSxMas_WqqD"
      }
    },
    {
      "cell_type": "markdown",
      "source": [
        "SG优化\n",
        "1、项目总数\n",
        "2、高优先级项目数量"
      ],
      "metadata": {
        "id": "5kX36ZJtT56e"
      }
    },
    {
      "cell_type": "code",
      "source": [
        "import requests\n",
        "import pandas as pd\n",
        "from io import BytesIO\n",
        "\n",
        "# ... (Your existing code for downloading and processing the Excel file) ...\n",
        "\n",
        "# Step 1: Load the CSV file into a DataFrame\n",
        "SGYH = \"SG优化需求.csv\"  # Replace with your actual file name\n",
        "# 拼接文件路径\n",
        "file_path = os.path.join(folder_name, SGYH)\n",
        "SGyhdf_NaN = pd.read_csv(file_path, header=0)\n",
        "SGyhdf_NaN.info()"
      ],
      "metadata": {
        "colab": {
          "base_uri": "https://localhost:8080/"
        },
        "id": "Gc9COX3OUdkS",
        "outputId": "25f4fd3c-f08f-44b2-e3ac-2791192a2e9c"
      },
      "execution_count": 2,
      "outputs": [
        {
          "output_type": "stream",
          "name": "stdout",
          "text": [
            "<class 'pandas.core.frame.DataFrame'>\n",
            "RangeIndex: 35 entries, 0 to 34\n",
            "Data columns (total 9 columns):\n",
            " #   Column       Non-Null Count  Dtype  \n",
            "---  ------       --------------  -----  \n",
            " 0   涉及系统模块       35 non-null     object \n",
            " 1   优化需求描述       35 non-null     object \n",
            " 2   优先级          31 non-null     object \n",
            " 3   项目阶段         35 non-null     object \n",
            " 4   每周进度更新（中后台）  30 non-null     object \n",
            " 5   APP版本        7 non-null      object \n",
            " 6   需求负责人        35 non-null     object \n",
            " 7   开发负责人        0 non-null      float64\n",
            " 8   测试负责人        0 non-null      float64\n",
            "dtypes: float64(2), object(7)\n",
            "memory usage: 2.6+ KB\n"
          ]
        }
      ]
    },
    {
      "cell_type": "code",
      "source": [
        "# 只删除【涉及系统模块】和【优化需求描述】列同时为 NaN 的行\n",
        "SGyhdf = SGyhdf_NaN.dropna(subset=[\"涉及系统模块\", \"优化需求描述\"], how=\"all\")\n",
        "SGyhdf.info()"
      ],
      "metadata": {
        "colab": {
          "base_uri": "https://localhost:8080/"
        },
        "id": "RE42o01IU954",
        "outputId": "709a8030-9ce0-4db7-fa4a-af504dd9bf39"
      },
      "execution_count": 3,
      "outputs": [
        {
          "output_type": "stream",
          "name": "stdout",
          "text": [
            "<class 'pandas.core.frame.DataFrame'>\n",
            "RangeIndex: 35 entries, 0 to 34\n",
            "Data columns (total 9 columns):\n",
            " #   Column       Non-Null Count  Dtype  \n",
            "---  ------       --------------  -----  \n",
            " 0   涉及系统模块       35 non-null     object \n",
            " 1   优化需求描述       35 non-null     object \n",
            " 2   优先级          31 non-null     object \n",
            " 3   项目阶段         35 non-null     object \n",
            " 4   每周进度更新（中后台）  30 non-null     object \n",
            " 5   APP版本        7 non-null      object \n",
            " 6   需求负责人        35 non-null     object \n",
            " 7   开发负责人        0 non-null      float64\n",
            " 8   测试负责人        0 non-null      float64\n",
            "dtypes: float64(2), object(7)\n",
            "memory usage: 2.6+ KB\n"
          ]
        }
      ]
    },
    {
      "cell_type": "code",
      "source": [
        "# prompt: SG优化\n",
        "# 1、项目总数\n",
        "# 2、高优先级项目数量\n",
        "\n",
        "try:\n",
        "    # HKyhdf = pd.read_csv(file_path)\n",
        "    # Calculate total projects and high-priority projects\n",
        "    yh_total_projects = len(SGyhdf)\n",
        "    high_priority_projects = SGyhdf[SGyhdf['优先级'] == '高'] # Assuming a column named '优先级' exists\n",
        "    num_priority = len(high_priority_projects)\n",
        "    print(f\"Total Projects: {yh_total_projects}\")\n",
        "    print(f\"High Priority Projects: {num_priority}\")\n",
        "\n",
        "    # Display the DataFrame (optional)\n",
        "    #HKyhdf\n",
        "except FileNotFoundError:\n",
        "    print(f\"Error: File '{SGyhdf}' not found.\")\n",
        "except KeyError:\n",
        "    print(\"Error: '优先级' column not found in the CSV file. Please check the column name.\")\n",
        "except Exception as e:\n",
        "    print(f\"An unexpected error occurred: {e}\")"
      ],
      "metadata": {
        "colab": {
          "base_uri": "https://localhost:8080/"
        },
        "id": "40rfJNXSTqSx",
        "outputId": "d2e66038-3f1e-4c95-9a35-b6c9870ab61d"
      },
      "execution_count": 4,
      "outputs": [
        {
          "output_type": "stream",
          "name": "stdout",
          "text": [
            "Total Projects: 35\n",
            "High Priority Projects: 21\n"
          ]
        }
      ]
    },
    {
      "cell_type": "code",
      "source": [
        "# 统计各个项目阶段的数量\n",
        "stage_counts = high_priority_projects['项目阶段'].value_counts()\n",
        "stage_counts"
      ],
      "metadata": {
        "colab": {
          "base_uri": "https://localhost:8080/",
          "height": 366
        },
        "id": "KbJtwNzHUUop",
        "outputId": "3182b2fe-232d-4504-c8e2-95c526565f47"
      },
      "execution_count": 5,
      "outputs": [
        {
          "output_type": "execute_result",
          "data": {
            "text/plain": [
              "项目阶段\n",
              "技术上线        5\n",
              "需求阶段-待规划    5\n",
              "需求阶段-调研中    4\n",
              "开发阶段-待排期    3\n",
              "测试阶段-测试中    1\n",
              "开发阶段-开发中    1\n",
              "业务对外        1\n",
              "UAT产品验收     1\n",
              "Name: count, dtype: int64"
            ],
            "text/html": [
              "<div>\n",
              "<style scoped>\n",
              "    .dataframe tbody tr th:only-of-type {\n",
              "        vertical-align: middle;\n",
              "    }\n",
              "\n",
              "    .dataframe tbody tr th {\n",
              "        vertical-align: top;\n",
              "    }\n",
              "\n",
              "    .dataframe thead th {\n",
              "        text-align: right;\n",
              "    }\n",
              "</style>\n",
              "<table border=\"1\" class=\"dataframe\">\n",
              "  <thead>\n",
              "    <tr style=\"text-align: right;\">\n",
              "      <th></th>\n",
              "      <th>count</th>\n",
              "    </tr>\n",
              "    <tr>\n",
              "      <th>项目阶段</th>\n",
              "      <th></th>\n",
              "    </tr>\n",
              "  </thead>\n",
              "  <tbody>\n",
              "    <tr>\n",
              "      <th>技术上线</th>\n",
              "      <td>5</td>\n",
              "    </tr>\n",
              "    <tr>\n",
              "      <th>需求阶段-待规划</th>\n",
              "      <td>5</td>\n",
              "    </tr>\n",
              "    <tr>\n",
              "      <th>需求阶段-调研中</th>\n",
              "      <td>4</td>\n",
              "    </tr>\n",
              "    <tr>\n",
              "      <th>开发阶段-待排期</th>\n",
              "      <td>3</td>\n",
              "    </tr>\n",
              "    <tr>\n",
              "      <th>测试阶段-测试中</th>\n",
              "      <td>1</td>\n",
              "    </tr>\n",
              "    <tr>\n",
              "      <th>开发阶段-开发中</th>\n",
              "      <td>1</td>\n",
              "    </tr>\n",
              "    <tr>\n",
              "      <th>业务对外</th>\n",
              "      <td>1</td>\n",
              "    </tr>\n",
              "    <tr>\n",
              "      <th>UAT产品验收</th>\n",
              "      <td>1</td>\n",
              "    </tr>\n",
              "  </tbody>\n",
              "</table>\n",
              "</div><br><label><b>dtype:</b> int64</label>"
            ]
          },
          "metadata": {},
          "execution_count": 5
        }
      ]
    },
    {
      "cell_type": "markdown",
      "source": [
        "Answer：共涉及34个需求，\n",
        "根据优先级划分，高优先级需求19个，其中测试阶段-测试中1个，技术上线2个，开发阶段-待排期2个，开发阶段-开发中2个，需求阶段-待规划4个，需求阶段-调研中4个，UAT产品验收4个。"
      ],
      "metadata": {
        "id": "T6IXevxPV8KS"
      }
    },
    {
      "cell_type": "code",
      "source": [
        "yh_total_description = f\"共涉及{yh_total_projects}个需求。根据优先级划分，高优先级需求{num_priority}个，其中\"\n",
        "\n",
        "\n",
        "stage_descriptions = [f\"{stage}{count}个\" for stage, count in stage_counts.items()]\n",
        "yh_total_description += \"，\".join(stage_descriptions) + \"。\"\n",
        "yh_total_description"
      ],
      "metadata": {
        "colab": {
          "base_uri": "https://localhost:8080/",
          "height": 35
        },
        "id": "4E5cE-yFVcbU",
        "outputId": "4ba91398-a3d3-42ac-cd05-b09ba895d6b4"
      },
      "execution_count": 6,
      "outputs": [
        {
          "output_type": "execute_result",
          "data": {
            "text/plain": [
              "'共涉及35个需求。根据优先级划分，高优先级需求21个，其中技术上线5个，需求阶段-待规划5个，需求阶段-调研中4个，开发阶段-待排期3个，测试阶段-测试中1个，开发阶段-开发中1个，业务对外1个，UAT产品验收1个。'"
            ],
            "application/vnd.google.colaboratory.intrinsic+json": {
              "type": "string"
            }
          },
          "metadata": {},
          "execution_count": 6
        }
      ]
    },
    {
      "cell_type": "markdown",
      "source": [
        "## SG项目"
      ],
      "metadata": {
        "id": "-l8ByW81Wdza"
      }
    },
    {
      "cell_type": "markdown",
      "source": [
        "SG项目：\n",
        "1、按优先级总结：【优先级】== 高优先级（数量）--> 总结项目阶段及数量\n",
        "2、按签约状态：【合同状态】(数量) -> 总结 (已签约\\未签约) 项目阶段及数量\n"
      ],
      "metadata": {
        "id": "Jhem3lg_WZvJ"
      }
    },
    {
      "cell_type": "code",
      "source": [
        "# Step 1: Load the CSV file into a DataFrame\n",
        "\n",
        "# 拼接文件路径\n",
        "file_path = os.path.join(folder_name, \"SG项目需求.csv\")\n",
        "\n",
        "df_SG_projects_NaN = pd.read_csv(file_path)\n",
        "\n",
        "df_SG_projects_NaN.info()"
      ],
      "metadata": {
        "colab": {
          "base_uri": "https://localhost:8080/"
        },
        "id": "BP4uXDEVV3w-",
        "outputId": "cff0f784-a43d-4f74-a607-ba86f5956362"
      },
      "execution_count": 7,
      "outputs": [
        {
          "output_type": "stream",
          "name": "stdout",
          "text": [
            "<class 'pandas.core.frame.DataFrame'>\n",
            "RangeIndex: 17 entries, 0 to 16\n",
            "Data columns (total 12 columns):\n",
            " #   Column          Non-Null Count  Dtype \n",
            "---  ------          --------------  ----- \n",
            " 0   涉及系统模块          16 non-null     object\n",
            " 1   项目名称（项目经理维护）    17 non-null     object\n",
            " 2   需求描述（产品经理维护）    14 non-null     object\n",
            " 3   优先级             17 non-null     object\n",
            " 4   项目阶段（项目经理维护）    17 non-null     object\n",
            " 5   每周进度更新（中后台）-产品  17 non-null     object\n",
            " 6   中后台版本号          8 non-null      object\n",
            " 7   APP版本-产品        11 non-null     object\n",
            " 8   合同状态-项目         15 non-null     object\n",
            " 9   需求负责人           15 non-null     object\n",
            " 10  开发负责人           10 non-null     object\n",
            " 11  测试负责人           10 non-null     object\n",
            "dtypes: object(12)\n",
            "memory usage: 1.7+ KB\n"
          ]
        }
      ]
    },
    {
      "cell_type": "markdown",
      "source": [
        "共涉及15个项目，\n",
        "根据优先级划分：\n",
        "高优先级项目8个，其中项目开发阶段-待排期的4个、开发阶段-开发中的1个、需求阶段-调研中的1个、UAT产品验收2个。\n",
        "\n",
        "根据合同状态划分：\n",
        "a、12个项目已签约，其中开发阶段-待排期6个、开发阶段-开发中的1个、需求阶段-调研中的3个、UAT产品验收2个；\n",
        "b、3个项目未签约-未确认，其中UAT产品验收阶段1个，需求阶段-调研中1个，开发阶段-待排期1个。"
      ],
      "metadata": {
        "id": "K_IJDdF_XV9R"
      }
    },
    {
      "cell_type": "code",
      "source": [
        "# 只删除【涉及系统】和【优化需求描述】列同时为 NaN 的行\n",
        "df_SG_projects = df_SG_projects_NaN.dropna(subset=[\"涉及系统模块\", \"项目名称（项目经理维护）\"], how=\"all\")\n",
        "\n",
        "df_SG_projects.info()"
      ],
      "metadata": {
        "colab": {
          "base_uri": "https://localhost:8080/"
        },
        "id": "M_yJ53fIcdkZ",
        "outputId": "6c61744e-4ce1-4535-b8c9-ecd567ec34fe"
      },
      "execution_count": 8,
      "outputs": [
        {
          "output_type": "stream",
          "name": "stdout",
          "text": [
            "<class 'pandas.core.frame.DataFrame'>\n",
            "RangeIndex: 17 entries, 0 to 16\n",
            "Data columns (total 12 columns):\n",
            " #   Column          Non-Null Count  Dtype \n",
            "---  ------          --------------  ----- \n",
            " 0   涉及系统模块          16 non-null     object\n",
            " 1   项目名称（项目经理维护）    17 non-null     object\n",
            " 2   需求描述（产品经理维护）    14 non-null     object\n",
            " 3   优先级             17 non-null     object\n",
            " 4   项目阶段（项目经理维护）    17 non-null     object\n",
            " 5   每周进度更新（中后台）-产品  17 non-null     object\n",
            " 6   中后台版本号          8 non-null      object\n",
            " 7   APP版本-产品        11 non-null     object\n",
            " 8   合同状态-项目         15 non-null     object\n",
            " 9   需求负责人           15 non-null     object\n",
            " 10  开发负责人           10 non-null     object\n",
            " 11  测试负责人           10 non-null     object\n",
            "dtypes: object(12)\n",
            "memory usage: 1.7+ KB\n"
          ]
        }
      ]
    },
    {
      "cell_type": "code",
      "source": [
        "# prompt: 按优先级总结：【优先级】== 高优先级（数量）--> 总结项目阶段及数量\n",
        "\n",
        "# ... (Your existing code for downloading and processing the Excel file) ...\n",
        "\n",
        "# Step 1: Load the CSV file into a DataFrame\n",
        "try:\n",
        "    #df_HK_projects = pd.read_csv(\"HK项目需求.csv\")\n",
        "\n",
        "    # 1. Total Projects\n",
        "    total_projects = len(df_SG_projects)\n",
        "    print(f\"Total SG Projects: {total_projects}\")\n",
        "\n",
        "    # 2. Summary by Priority\n",
        "    high_priority_projects = df_SG_projects[df_SG_projects['优先级'] == '高']\n",
        "    num_high_priority = len(high_priority_projects)\n",
        "    stage_counts_priority = high_priority_projects['项目阶段（项目经理维护）'].value_counts()\n",
        "    print(f\"\\nHigh Priority Projects: {num_high_priority}\")\n",
        "    print(\"Project Stages (High Priority):\")\n",
        "    print(stage_counts_priority)\n",
        "\n",
        "\n",
        "    # 3. Summary by Contract Status\n",
        "    signed_projects = df_SG_projects[df_SG_projects['合同状态-项目'] == '已签约']\n",
        "    num_signed = len(signed_projects)\n",
        "    stage_counts_signed = signed_projects['项目阶段（项目经理维护）'].value_counts()\n",
        "    print(f\"\\nSigned Projects: {num_signed}\")\n",
        "    print(\"Project Stages (Signed):\")\n",
        "    print(stage_counts_signed)\n",
        "\n",
        "    # unsigned_projects = df_HK_projects[df_HK_projects['合同状态'] == '未签约']\n",
        "    unsigned_projects = df_SG_projects[df_SG_projects['合同状态-项目'].str.contains('未签约', na=False)]\n",
        "    num_unsigned = len(unsigned_projects)\n",
        "    stage_counts_unsigned = unsigned_projects['项目阶段（项目经理维护）'].value_counts()\n",
        "    print(f\"\\nUnsigned Projects: {num_unsigned}\")\n",
        "    print(\"Project Stages (Unsigned):\")\n",
        "    print(stage_counts_unsigned)\n",
        "\n",
        "except FileNotFoundError:\n",
        "    print(f\"Error: File 'SG项目需求.csv' not found.\")\n",
        "except KeyError as e:\n",
        "    print(f\"Error: Column '{e}' not found in the CSV file. Please check the column name.\")\n",
        "except Exception as e:\n",
        "    print(f\"An unexpected error occurred: {e}\")"
      ],
      "metadata": {
        "colab": {
          "base_uri": "https://localhost:8080/"
        },
        "id": "-kTbw_e4XCxY",
        "outputId": "21e889b5-b2fb-478c-b5f0-363557c8a1cb"
      },
      "execution_count": 9,
      "outputs": [
        {
          "output_type": "stream",
          "name": "stdout",
          "text": [
            "Total SG Projects: 17\n",
            "\n",
            "High Priority Projects: 10\n",
            "Project Stages (High Priority):\n",
            "项目阶段（项目经理维护）\n",
            "开发阶段-待排期    6\n",
            "UAT产品验收     3\n",
            "开发阶段-开发中    1\n",
            "Name: count, dtype: int64\n",
            "\n",
            "Signed Projects: 12\n",
            "Project Stages (Signed):\n",
            "项目阶段（项目经理维护）\n",
            "开发阶段-待排期    6\n",
            "需求阶段-调研中    3\n",
            "UAT产品验收     2\n",
            "开发阶段-开发中    1\n",
            "Name: count, dtype: int64\n",
            "\n",
            "Unsigned Projects: 3\n",
            "Project Stages (Unsigned):\n",
            "项目阶段（项目经理维护）\n",
            "开发阶段-待排期    2\n",
            "UAT产品验收     1\n",
            "Name: count, dtype: int64\n"
          ]
        }
      ]
    },
    {
      "cell_type": "markdown",
      "source": [
        "共涉及7个项目，\n",
        "根据优先级划分：高优先级项目6个，其中项目阶段为UAT产品验收1个，测试阶段3个，开发阶段-开发中的1个，需求调研的1个；\n",
        "\n",
        "根据合同状态划分：5个项目已签约其中UAT产品验收1个，测试阶段3个，开发阶段-待排期1个；\n",
        "1个项目未签约-未确认，其中需求调研1个；"
      ],
      "metadata": {
        "id": "D0AOKR1UYL5d"
      }
    },
    {
      "cell_type": "code",
      "source": [
        "proj_total_desc = f\"共涉及{total_projects}个项目， 根据优先级划分：\"\n",
        "proj_high_priority_desc = proj_total_desc + f\"高优先级项目{num_high_priority}个，其中项目阶段为\"\n",
        "high_stage_desc = [f\"{stage}{count}个\" for stage, count in stage_counts_priority.items()]\n",
        "proj_high_priority_desc += \"，\".join(high_stage_desc)\n",
        "# high_priority_projects\n",
        "proj_high_priority_desc\n"
      ],
      "metadata": {
        "colab": {
          "base_uri": "https://localhost:8080/",
          "height": 35
        },
        "id": "wBsAnnERYWFN",
        "outputId": "a418aecd-efd6-4ddc-b587-d1173f00eb61"
      },
      "execution_count": 10,
      "outputs": [
        {
          "output_type": "execute_result",
          "data": {
            "text/plain": [
              "'共涉及17个项目， 根据优先级划分：高优先级项目10个，其中项目阶段为开发阶段-待排期6个，UAT产品验收3个，开发阶段-开发中1个'"
            ],
            "application/vnd.google.colaboratory.intrinsic+json": {
              "type": "string"
            }
          },
          "metadata": {},
          "execution_count": 10
        }
      ]
    },
    {
      "cell_type": "code",
      "source": [
        "proj_signed_desc = f\"根据合同状态划分：{num_signed}个项目已签约。其中\"\n",
        "signed_stage_desc = [f\"{stage}{count}个\" for stage, count in stage_counts_signed.items()]\n",
        "proj_signed_desc += \"，\".join(signed_stage_desc)\n",
        "proj_signed_desc"
      ],
      "metadata": {
        "colab": {
          "base_uri": "https://localhost:8080/",
          "height": 35
        },
        "id": "WUh7M6KqYV9B",
        "outputId": "0bb0332e-ffdd-41a9-85f1-1af49ca9bab0"
      },
      "execution_count": 11,
      "outputs": [
        {
          "output_type": "execute_result",
          "data": {
            "text/plain": [
              "'根据合同状态划分：12个项目已签约。其中开发阶段-待排期6个，需求阶段-调研中3个，UAT产品验收2个，开发阶段-开发中1个'"
            ],
            "application/vnd.google.colaboratory.intrinsic+json": {
              "type": "string"
            }
          },
          "metadata": {},
          "execution_count": 11
        }
      ]
    },
    {
      "cell_type": "markdown",
      "source": [
        "### 未签约"
      ],
      "metadata": {
        "id": "AjU7QPeI-8ba"
      }
    },
    {
      "cell_type": "code",
      "source": [
        "proj_unsigned_desc = f\"根据合同状态划分：{num_unsigned}个项目\"+unsigned_projects['合同状态-项目']"
      ],
      "metadata": {
        "id": "QETvjONFae7u"
      },
      "execution_count": 12,
      "outputs": []
    },
    {
      "cell_type": "code",
      "source": [
        "unsigned_projects"
      ],
      "metadata": {
        "colab": {
          "base_uri": "https://localhost:8080/",
          "height": 213
        },
        "id": "q5FPTeXGbRxu",
        "outputId": "f7815d83-86b8-44fb-cba7-e88aaa8a2138"
      },
      "execution_count": 13,
      "outputs": [
        {
          "output_type": "execute_result",
          "data": {
            "text/plain": [
              "          涉及系统模块 项目名称（项目经理维护）               需求描述（产品经理维护） 优先级 项目阶段（项目经理维护）  \\\n",
              "0             交易      支持A股通交易        A股通交易权限管理，BCAN码生成支持   高      UAT产品验收   \n",
              "11            行情     美股期权实时数据  目前美股期权数据5秒更新一次，需做到实时或1秒更新   高     开发阶段-待排期   \n",
              "14  行情,账户,营销,大数据   TSE 日本股票行情              日本东京证券交易所实时行情   高     开发阶段-待排期   \n",
              "\n",
              "               每周进度更新（中后台）-产品    中后台版本号 APP版本-产品  合同状态-项目  \\\n",
              "0         SIT测试：10.22\\nUAT验收：  SG 2.1.0      不涉及  未签约-未确认   \n",
              "11         项目经理与阿里云商务对接中，待签合同       不涉及      不涉及  未签约-未确认   \n",
              "14  11.27已评审，研发先消化需求，下周一预计出排期       NaN     待排版本  未签约-未确认   \n",
              "\n",
              "                    需求负责人             开发负责人              测试负责人  \n",
              "0   @陈奕超(Benson)@刘聪(Raul)  @王玉龙(amado.wang)  @Jim Solomon(王有诀)  \n",
              "11                   @刘晓东   @王伏根(iscaswang)        @符志辉(Blank)  \n",
              "14                   @刘晓东   @王伏根(iscaswang)        @符志辉(Blank)  "
            ],
            "text/html": [
              "\n",
              "  <div id=\"df-f16dfb53-037c-464b-a1cb-bf696ce4f193\" class=\"colab-df-container\">\n",
              "    <div>\n",
              "<style scoped>\n",
              "    .dataframe tbody tr th:only-of-type {\n",
              "        vertical-align: middle;\n",
              "    }\n",
              "\n",
              "    .dataframe tbody tr th {\n",
              "        vertical-align: top;\n",
              "    }\n",
              "\n",
              "    .dataframe thead th {\n",
              "        text-align: right;\n",
              "    }\n",
              "</style>\n",
              "<table border=\"1\" class=\"dataframe\">\n",
              "  <thead>\n",
              "    <tr style=\"text-align: right;\">\n",
              "      <th></th>\n",
              "      <th>涉及系统模块</th>\n",
              "      <th>项目名称（项目经理维护）</th>\n",
              "      <th>需求描述（产品经理维护）</th>\n",
              "      <th>优先级</th>\n",
              "      <th>项目阶段（项目经理维护）</th>\n",
              "      <th>每周进度更新（中后台）-产品</th>\n",
              "      <th>中后台版本号</th>\n",
              "      <th>APP版本-产品</th>\n",
              "      <th>合同状态-项目</th>\n",
              "      <th>需求负责人</th>\n",
              "      <th>开发负责人</th>\n",
              "      <th>测试负责人</th>\n",
              "    </tr>\n",
              "  </thead>\n",
              "  <tbody>\n",
              "    <tr>\n",
              "      <th>0</th>\n",
              "      <td>交易</td>\n",
              "      <td>支持A股通交易</td>\n",
              "      <td>A股通交易权限管理，BCAN码生成支持</td>\n",
              "      <td>高</td>\n",
              "      <td>UAT产品验收</td>\n",
              "      <td>SIT测试：10.22\\nUAT验收：</td>\n",
              "      <td>SG 2.1.0</td>\n",
              "      <td>不涉及</td>\n",
              "      <td>未签约-未确认</td>\n",
              "      <td>@陈奕超(Benson)@刘聪(Raul)</td>\n",
              "      <td>@王玉龙(amado.wang)</td>\n",
              "      <td>@Jim Solomon(王有诀)</td>\n",
              "    </tr>\n",
              "    <tr>\n",
              "      <th>11</th>\n",
              "      <td>行情</td>\n",
              "      <td>美股期权实时数据</td>\n",
              "      <td>目前美股期权数据5秒更新一次，需做到实时或1秒更新</td>\n",
              "      <td>高</td>\n",
              "      <td>开发阶段-待排期</td>\n",
              "      <td>项目经理与阿里云商务对接中，待签合同</td>\n",
              "      <td>不涉及</td>\n",
              "      <td>不涉及</td>\n",
              "      <td>未签约-未确认</td>\n",
              "      <td>@刘晓东</td>\n",
              "      <td>@王伏根(iscaswang)</td>\n",
              "      <td>@符志辉(Blank)</td>\n",
              "    </tr>\n",
              "    <tr>\n",
              "      <th>14</th>\n",
              "      <td>行情,账户,营销,大数据</td>\n",
              "      <td>TSE 日本股票行情</td>\n",
              "      <td>日本东京证券交易所实时行情</td>\n",
              "      <td>高</td>\n",
              "      <td>开发阶段-待排期</td>\n",
              "      <td>11.27已评审，研发先消化需求，下周一预计出排期</td>\n",
              "      <td>NaN</td>\n",
              "      <td>待排版本</td>\n",
              "      <td>未签约-未确认</td>\n",
              "      <td>@刘晓东</td>\n",
              "      <td>@王伏根(iscaswang)</td>\n",
              "      <td>@符志辉(Blank)</td>\n",
              "    </tr>\n",
              "  </tbody>\n",
              "</table>\n",
              "</div>\n",
              "    <div class=\"colab-df-buttons\">\n",
              "\n",
              "  <div class=\"colab-df-container\">\n",
              "    <button class=\"colab-df-convert\" onclick=\"convertToInteractive('df-f16dfb53-037c-464b-a1cb-bf696ce4f193')\"\n",
              "            title=\"Convert this dataframe to an interactive table.\"\n",
              "            style=\"display:none;\">\n",
              "\n",
              "  <svg xmlns=\"http://www.w3.org/2000/svg\" height=\"24px\" viewBox=\"0 -960 960 960\">\n",
              "    <path d=\"M120-120v-720h720v720H120Zm60-500h600v-160H180v160Zm220 220h160v-160H400v160Zm0 220h160v-160H400v160ZM180-400h160v-160H180v160Zm440 0h160v-160H620v160ZM180-180h160v-160H180v160Zm440 0h160v-160H620v160Z\"/>\n",
              "  </svg>\n",
              "    </button>\n",
              "\n",
              "  <style>\n",
              "    .colab-df-container {\n",
              "      display:flex;\n",
              "      gap: 12px;\n",
              "    }\n",
              "\n",
              "    .colab-df-convert {\n",
              "      background-color: #E8F0FE;\n",
              "      border: none;\n",
              "      border-radius: 50%;\n",
              "      cursor: pointer;\n",
              "      display: none;\n",
              "      fill: #1967D2;\n",
              "      height: 32px;\n",
              "      padding: 0 0 0 0;\n",
              "      width: 32px;\n",
              "    }\n",
              "\n",
              "    .colab-df-convert:hover {\n",
              "      background-color: #E2EBFA;\n",
              "      box-shadow: 0px 1px 2px rgba(60, 64, 67, 0.3), 0px 1px 3px 1px rgba(60, 64, 67, 0.15);\n",
              "      fill: #174EA6;\n",
              "    }\n",
              "\n",
              "    .colab-df-buttons div {\n",
              "      margin-bottom: 4px;\n",
              "    }\n",
              "\n",
              "    [theme=dark] .colab-df-convert {\n",
              "      background-color: #3B4455;\n",
              "      fill: #D2E3FC;\n",
              "    }\n",
              "\n",
              "    [theme=dark] .colab-df-convert:hover {\n",
              "      background-color: #434B5C;\n",
              "      box-shadow: 0px 1px 3px 1px rgba(0, 0, 0, 0.15);\n",
              "      filter: drop-shadow(0px 1px 2px rgba(0, 0, 0, 0.3));\n",
              "      fill: #FFFFFF;\n",
              "    }\n",
              "  </style>\n",
              "\n",
              "    <script>\n",
              "      const buttonEl =\n",
              "        document.querySelector('#df-f16dfb53-037c-464b-a1cb-bf696ce4f193 button.colab-df-convert');\n",
              "      buttonEl.style.display =\n",
              "        google.colab.kernel.accessAllowed ? 'block' : 'none';\n",
              "\n",
              "      async function convertToInteractive(key) {\n",
              "        const element = document.querySelector('#df-f16dfb53-037c-464b-a1cb-bf696ce4f193');\n",
              "        const dataTable =\n",
              "          await google.colab.kernel.invokeFunction('convertToInteractive',\n",
              "                                                    [key], {});\n",
              "        if (!dataTable) return;\n",
              "\n",
              "        const docLinkHtml = 'Like what you see? Visit the ' +\n",
              "          '<a target=\"_blank\" href=https://colab.research.google.com/notebooks/data_table.ipynb>data table notebook</a>'\n",
              "          + ' to learn more about interactive tables.';\n",
              "        element.innerHTML = '';\n",
              "        dataTable['output_type'] = 'display_data';\n",
              "        await google.colab.output.renderOutput(dataTable, element);\n",
              "        const docLink = document.createElement('div');\n",
              "        docLink.innerHTML = docLinkHtml;\n",
              "        element.appendChild(docLink);\n",
              "      }\n",
              "    </script>\n",
              "  </div>\n",
              "\n",
              "\n",
              "<div id=\"df-97698c6c-9ee0-4ebd-b2ed-a7e3fb032855\">\n",
              "  <button class=\"colab-df-quickchart\" onclick=\"quickchart('df-97698c6c-9ee0-4ebd-b2ed-a7e3fb032855')\"\n",
              "            title=\"Suggest charts\"\n",
              "            style=\"display:none;\">\n",
              "\n",
              "<svg xmlns=\"http://www.w3.org/2000/svg\" height=\"24px\"viewBox=\"0 0 24 24\"\n",
              "     width=\"24px\">\n",
              "    <g>\n",
              "        <path d=\"M19 3H5c-1.1 0-2 .9-2 2v14c0 1.1.9 2 2 2h14c1.1 0 2-.9 2-2V5c0-1.1-.9-2-2-2zM9 17H7v-7h2v7zm4 0h-2V7h2v10zm4 0h-2v-4h2v4z\"/>\n",
              "    </g>\n",
              "</svg>\n",
              "  </button>\n",
              "\n",
              "<style>\n",
              "  .colab-df-quickchart {\n",
              "      --bg-color: #E8F0FE;\n",
              "      --fill-color: #1967D2;\n",
              "      --hover-bg-color: #E2EBFA;\n",
              "      --hover-fill-color: #174EA6;\n",
              "      --disabled-fill-color: #AAA;\n",
              "      --disabled-bg-color: #DDD;\n",
              "  }\n",
              "\n",
              "  [theme=dark] .colab-df-quickchart {\n",
              "      --bg-color: #3B4455;\n",
              "      --fill-color: #D2E3FC;\n",
              "      --hover-bg-color: #434B5C;\n",
              "      --hover-fill-color: #FFFFFF;\n",
              "      --disabled-bg-color: #3B4455;\n",
              "      --disabled-fill-color: #666;\n",
              "  }\n",
              "\n",
              "  .colab-df-quickchart {\n",
              "    background-color: var(--bg-color);\n",
              "    border: none;\n",
              "    border-radius: 50%;\n",
              "    cursor: pointer;\n",
              "    display: none;\n",
              "    fill: var(--fill-color);\n",
              "    height: 32px;\n",
              "    padding: 0;\n",
              "    width: 32px;\n",
              "  }\n",
              "\n",
              "  .colab-df-quickchart:hover {\n",
              "    background-color: var(--hover-bg-color);\n",
              "    box-shadow: 0 1px 2px rgba(60, 64, 67, 0.3), 0 1px 3px 1px rgba(60, 64, 67, 0.15);\n",
              "    fill: var(--button-hover-fill-color);\n",
              "  }\n",
              "\n",
              "  .colab-df-quickchart-complete:disabled,\n",
              "  .colab-df-quickchart-complete:disabled:hover {\n",
              "    background-color: var(--disabled-bg-color);\n",
              "    fill: var(--disabled-fill-color);\n",
              "    box-shadow: none;\n",
              "  }\n",
              "\n",
              "  .colab-df-spinner {\n",
              "    border: 2px solid var(--fill-color);\n",
              "    border-color: transparent;\n",
              "    border-bottom-color: var(--fill-color);\n",
              "    animation:\n",
              "      spin 1s steps(1) infinite;\n",
              "  }\n",
              "\n",
              "  @keyframes spin {\n",
              "    0% {\n",
              "      border-color: transparent;\n",
              "      border-bottom-color: var(--fill-color);\n",
              "      border-left-color: var(--fill-color);\n",
              "    }\n",
              "    20% {\n",
              "      border-color: transparent;\n",
              "      border-left-color: var(--fill-color);\n",
              "      border-top-color: var(--fill-color);\n",
              "    }\n",
              "    30% {\n",
              "      border-color: transparent;\n",
              "      border-left-color: var(--fill-color);\n",
              "      border-top-color: var(--fill-color);\n",
              "      border-right-color: var(--fill-color);\n",
              "    }\n",
              "    40% {\n",
              "      border-color: transparent;\n",
              "      border-right-color: var(--fill-color);\n",
              "      border-top-color: var(--fill-color);\n",
              "    }\n",
              "    60% {\n",
              "      border-color: transparent;\n",
              "      border-right-color: var(--fill-color);\n",
              "    }\n",
              "    80% {\n",
              "      border-color: transparent;\n",
              "      border-right-color: var(--fill-color);\n",
              "      border-bottom-color: var(--fill-color);\n",
              "    }\n",
              "    90% {\n",
              "      border-color: transparent;\n",
              "      border-bottom-color: var(--fill-color);\n",
              "    }\n",
              "  }\n",
              "</style>\n",
              "\n",
              "  <script>\n",
              "    async function quickchart(key) {\n",
              "      const quickchartButtonEl =\n",
              "        document.querySelector('#' + key + ' button');\n",
              "      quickchartButtonEl.disabled = true;  // To prevent multiple clicks.\n",
              "      quickchartButtonEl.classList.add('colab-df-spinner');\n",
              "      try {\n",
              "        const charts = await google.colab.kernel.invokeFunction(\n",
              "            'suggestCharts', [key], {});\n",
              "      } catch (error) {\n",
              "        console.error('Error during call to suggestCharts:', error);\n",
              "      }\n",
              "      quickchartButtonEl.classList.remove('colab-df-spinner');\n",
              "      quickchartButtonEl.classList.add('colab-df-quickchart-complete');\n",
              "    }\n",
              "    (() => {\n",
              "      let quickchartButtonEl =\n",
              "        document.querySelector('#df-97698c6c-9ee0-4ebd-b2ed-a7e3fb032855 button');\n",
              "      quickchartButtonEl.style.display =\n",
              "        google.colab.kernel.accessAllowed ? 'block' : 'none';\n",
              "    })();\n",
              "  </script>\n",
              "</div>\n",
              "\n",
              "  <div id=\"id_0938ce93-98a6-4e7d-b572-9e401d2aa3d9\">\n",
              "    <style>\n",
              "      .colab-df-generate {\n",
              "        background-color: #E8F0FE;\n",
              "        border: none;\n",
              "        border-radius: 50%;\n",
              "        cursor: pointer;\n",
              "        display: none;\n",
              "        fill: #1967D2;\n",
              "        height: 32px;\n",
              "        padding: 0 0 0 0;\n",
              "        width: 32px;\n",
              "      }\n",
              "\n",
              "      .colab-df-generate:hover {\n",
              "        background-color: #E2EBFA;\n",
              "        box-shadow: 0px 1px 2px rgba(60, 64, 67, 0.3), 0px 1px 3px 1px rgba(60, 64, 67, 0.15);\n",
              "        fill: #174EA6;\n",
              "      }\n",
              "\n",
              "      [theme=dark] .colab-df-generate {\n",
              "        background-color: #3B4455;\n",
              "        fill: #D2E3FC;\n",
              "      }\n",
              "\n",
              "      [theme=dark] .colab-df-generate:hover {\n",
              "        background-color: #434B5C;\n",
              "        box-shadow: 0px 1px 3px 1px rgba(0, 0, 0, 0.15);\n",
              "        filter: drop-shadow(0px 1px 2px rgba(0, 0, 0, 0.3));\n",
              "        fill: #FFFFFF;\n",
              "      }\n",
              "    </style>\n",
              "    <button class=\"colab-df-generate\" onclick=\"generateWithVariable('unsigned_projects')\"\n",
              "            title=\"Generate code using this dataframe.\"\n",
              "            style=\"display:none;\">\n",
              "\n",
              "  <svg xmlns=\"http://www.w3.org/2000/svg\" height=\"24px\"viewBox=\"0 0 24 24\"\n",
              "       width=\"24px\">\n",
              "    <path d=\"M7,19H8.4L18.45,9,17,7.55,7,17.6ZM5,21V16.75L18.45,3.32a2,2,0,0,1,2.83,0l1.4,1.43a1.91,1.91,0,0,1,.58,1.4,1.91,1.91,0,0,1-.58,1.4L9.25,21ZM18.45,9,17,7.55Zm-12,3A5.31,5.31,0,0,0,4.9,8.1,5.31,5.31,0,0,0,1,6.5,5.31,5.31,0,0,0,4.9,4.9,5.31,5.31,0,0,0,6.5,1,5.31,5.31,0,0,0,8.1,4.9,5.31,5.31,0,0,0,12,6.5,5.46,5.46,0,0,0,6.5,12Z\"/>\n",
              "  </svg>\n",
              "    </button>\n",
              "    <script>\n",
              "      (() => {\n",
              "      const buttonEl =\n",
              "        document.querySelector('#id_0938ce93-98a6-4e7d-b572-9e401d2aa3d9 button.colab-df-generate');\n",
              "      buttonEl.style.display =\n",
              "        google.colab.kernel.accessAllowed ? 'block' : 'none';\n",
              "\n",
              "      buttonEl.onclick = () => {\n",
              "        google.colab.notebook.generateWithVariable('unsigned_projects');\n",
              "      }\n",
              "      })();\n",
              "    </script>\n",
              "  </div>\n",
              "\n",
              "    </div>\n",
              "  </div>\n"
            ],
            "application/vnd.google.colaboratory.intrinsic+json": {
              "type": "dataframe",
              "variable_name": "unsigned_projects",
              "summary": "{\n  \"name\": \"unsigned_projects\",\n  \"rows\": 3,\n  \"fields\": [\n    {\n      \"column\": \"\\u6d89\\u53ca\\u7cfb\\u7edf\\u6a21\\u5757\",\n      \"properties\": {\n        \"dtype\": \"string\",\n        \"num_unique_values\": 3,\n        \"samples\": [\n          \"\\u4ea4\\u6613\",\n          \"\\u884c\\u60c5\",\n          \"\\u884c\\u60c5,\\u8d26\\u6237,\\u8425\\u9500,\\u5927\\u6570\\u636e\"\n        ],\n        \"semantic_type\": \"\",\n        \"description\": \"\"\n      }\n    },\n    {\n      \"column\": \"\\u9879\\u76ee\\u540d\\u79f0\\uff08\\u9879\\u76ee\\u7ecf\\u7406\\u7ef4\\u62a4\\uff09\",\n      \"properties\": {\n        \"dtype\": \"string\",\n        \"num_unique_values\": 3,\n        \"samples\": [\n          \"\\u652f\\u6301A\\u80a1\\u901a\\u4ea4\\u6613\",\n          \"\\u7f8e\\u80a1\\u671f\\u6743\\u5b9e\\u65f6\\u6570\\u636e\",\n          \"TSE \\u65e5\\u672c\\u80a1\\u7968\\u884c\\u60c5\"\n        ],\n        \"semantic_type\": \"\",\n        \"description\": \"\"\n      }\n    },\n    {\n      \"column\": \"\\u9700\\u6c42\\u63cf\\u8ff0\\uff08\\u4ea7\\u54c1\\u7ecf\\u7406\\u7ef4\\u62a4\\uff09\",\n      \"properties\": {\n        \"dtype\": \"string\",\n        \"num_unique_values\": 3,\n        \"samples\": [\n          \"A\\u80a1\\u901a\\u4ea4\\u6613\\u6743\\u9650\\u7ba1\\u7406\\uff0cBCAN\\u7801\\u751f\\u6210\\u652f\\u6301\",\n          \"\\u76ee\\u524d\\u7f8e\\u80a1\\u671f\\u6743\\u6570\\u636e5\\u79d2\\u66f4\\u65b0\\u4e00\\u6b21\\uff0c\\u9700\\u505a\\u5230\\u5b9e\\u65f6\\u62161\\u79d2\\u66f4\\u65b0\",\n          \"\\u65e5\\u672c\\u4e1c\\u4eac\\u8bc1\\u5238\\u4ea4\\u6613\\u6240\\u5b9e\\u65f6\\u884c\\u60c5\"\n        ],\n        \"semantic_type\": \"\",\n        \"description\": \"\"\n      }\n    },\n    {\n      \"column\": \"\\u4f18\\u5148\\u7ea7\",\n      \"properties\": {\n        \"dtype\": \"category\",\n        \"num_unique_values\": 1,\n        \"samples\": [\n          \"\\u9ad8\"\n        ],\n        \"semantic_type\": \"\",\n        \"description\": \"\"\n      }\n    },\n    {\n      \"column\": \"\\u9879\\u76ee\\u9636\\u6bb5\\uff08\\u9879\\u76ee\\u7ecf\\u7406\\u7ef4\\u62a4\\uff09\",\n      \"properties\": {\n        \"dtype\": \"string\",\n        \"num_unique_values\": 2,\n        \"samples\": [\n          \"\\u5f00\\u53d1\\u9636\\u6bb5-\\u5f85\\u6392\\u671f\"\n        ],\n        \"semantic_type\": \"\",\n        \"description\": \"\"\n      }\n    },\n    {\n      \"column\": \"\\u6bcf\\u5468\\u8fdb\\u5ea6\\u66f4\\u65b0\\uff08\\u4e2d\\u540e\\u53f0\\uff09-\\u4ea7\\u54c1\",\n      \"properties\": {\n        \"dtype\": \"string\",\n        \"num_unique_values\": 3,\n        \"samples\": [\n          \"SIT\\u6d4b\\u8bd5\\uff1a10.22\\nUAT\\u9a8c\\u6536\\uff1a\"\n        ],\n        \"semantic_type\": \"\",\n        \"description\": \"\"\n      }\n    },\n    {\n      \"column\": \"\\u4e2d\\u540e\\u53f0\\u7248\\u672c\\u53f7\",\n      \"properties\": {\n        \"dtype\": \"string\",\n        \"num_unique_values\": 2,\n        \"samples\": [\n          \"\\u4e0d\\u6d89\\u53ca\"\n        ],\n        \"semantic_type\": \"\",\n        \"description\": \"\"\n      }\n    },\n    {\n      \"column\": \"APP\\u7248\\u672c-\\u4ea7\\u54c1\",\n      \"properties\": {\n        \"dtype\": \"string\",\n        \"num_unique_values\": 2,\n        \"samples\": [\n          \"\\u5f85\\u6392\\u7248\\u672c\"\n        ],\n        \"semantic_type\": \"\",\n        \"description\": \"\"\n      }\n    },\n    {\n      \"column\": \"\\u5408\\u540c\\u72b6\\u6001-\\u9879\\u76ee\",\n      \"properties\": {\n        \"dtype\": \"category\",\n        \"num_unique_values\": 1,\n        \"samples\": [\n          \"\\u672a\\u7b7e\\u7ea6-\\u672a\\u786e\\u8ba4\"\n        ],\n        \"semantic_type\": \"\",\n        \"description\": \"\"\n      }\n    },\n    {\n      \"column\": \"\\u9700\\u6c42\\u8d1f\\u8d23\\u4eba\",\n      \"properties\": {\n        \"dtype\": \"string\",\n        \"num_unique_values\": 2,\n        \"samples\": [\n          \"@\\u5218\\u6653\\u4e1c\"\n        ],\n        \"semantic_type\": \"\",\n        \"description\": \"\"\n      }\n    },\n    {\n      \"column\": \"\\u5f00\\u53d1\\u8d1f\\u8d23\\u4eba\",\n      \"properties\": {\n        \"dtype\": \"string\",\n        \"num_unique_values\": 2,\n        \"samples\": [\n          \"@\\u738b\\u4f0f\\u6839(iscaswang)\"\n        ],\n        \"semantic_type\": \"\",\n        \"description\": \"\"\n      }\n    },\n    {\n      \"column\": \"\\u6d4b\\u8bd5\\u8d1f\\u8d23\\u4eba\",\n      \"properties\": {\n        \"dtype\": \"string\",\n        \"num_unique_values\": 2,\n        \"samples\": [\n          \"@\\u7b26\\u5fd7\\u8f89(Blank)\"\n        ],\n        \"semantic_type\": \"\",\n        \"description\": \"\"\n      }\n    }\n  ]\n}"
            }
          },
          "metadata": {},
          "execution_count": 13
        }
      ]
    },
    {
      "cell_type": "code",
      "source": [
        "# Step 1: 按合同状态和项目阶段分组统计\n",
        "status_stage_counts = unsigned_projects.groupby(['合同状态-项目', '项目阶段（项目经理维护）']).size().reset_index(name='数量')\n",
        "status_stage_counts"
      ],
      "metadata": {
        "colab": {
          "base_uri": "https://localhost:8080/",
          "height": 125
        },
        "id": "mU_gxkHwbSR-",
        "outputId": "1ea99877-bbe8-45c7-ee4f-64ddb59840e8"
      },
      "execution_count": 14,
      "outputs": [
        {
          "output_type": "execute_result",
          "data": {
            "text/plain": [
              "   合同状态-项目 项目阶段（项目经理维护）  数量\n",
              "0  未签约-未确认      UAT产品验收   1\n",
              "1  未签约-未确认     开发阶段-待排期   2"
            ],
            "text/html": [
              "\n",
              "  <div id=\"df-8a3f2e40-4a8d-4c50-a79e-49bc4964b04b\" class=\"colab-df-container\">\n",
              "    <div>\n",
              "<style scoped>\n",
              "    .dataframe tbody tr th:only-of-type {\n",
              "        vertical-align: middle;\n",
              "    }\n",
              "\n",
              "    .dataframe tbody tr th {\n",
              "        vertical-align: top;\n",
              "    }\n",
              "\n",
              "    .dataframe thead th {\n",
              "        text-align: right;\n",
              "    }\n",
              "</style>\n",
              "<table border=\"1\" class=\"dataframe\">\n",
              "  <thead>\n",
              "    <tr style=\"text-align: right;\">\n",
              "      <th></th>\n",
              "      <th>合同状态-项目</th>\n",
              "      <th>项目阶段（项目经理维护）</th>\n",
              "      <th>数量</th>\n",
              "    </tr>\n",
              "  </thead>\n",
              "  <tbody>\n",
              "    <tr>\n",
              "      <th>0</th>\n",
              "      <td>未签约-未确认</td>\n",
              "      <td>UAT产品验收</td>\n",
              "      <td>1</td>\n",
              "    </tr>\n",
              "    <tr>\n",
              "      <th>1</th>\n",
              "      <td>未签约-未确认</td>\n",
              "      <td>开发阶段-待排期</td>\n",
              "      <td>2</td>\n",
              "    </tr>\n",
              "  </tbody>\n",
              "</table>\n",
              "</div>\n",
              "    <div class=\"colab-df-buttons\">\n",
              "\n",
              "  <div class=\"colab-df-container\">\n",
              "    <button class=\"colab-df-convert\" onclick=\"convertToInteractive('df-8a3f2e40-4a8d-4c50-a79e-49bc4964b04b')\"\n",
              "            title=\"Convert this dataframe to an interactive table.\"\n",
              "            style=\"display:none;\">\n",
              "\n",
              "  <svg xmlns=\"http://www.w3.org/2000/svg\" height=\"24px\" viewBox=\"0 -960 960 960\">\n",
              "    <path d=\"M120-120v-720h720v720H120Zm60-500h600v-160H180v160Zm220 220h160v-160H400v160Zm0 220h160v-160H400v160ZM180-400h160v-160H180v160Zm440 0h160v-160H620v160ZM180-180h160v-160H180v160Zm440 0h160v-160H620v160Z\"/>\n",
              "  </svg>\n",
              "    </button>\n",
              "\n",
              "  <style>\n",
              "    .colab-df-container {\n",
              "      display:flex;\n",
              "      gap: 12px;\n",
              "    }\n",
              "\n",
              "    .colab-df-convert {\n",
              "      background-color: #E8F0FE;\n",
              "      border: none;\n",
              "      border-radius: 50%;\n",
              "      cursor: pointer;\n",
              "      display: none;\n",
              "      fill: #1967D2;\n",
              "      height: 32px;\n",
              "      padding: 0 0 0 0;\n",
              "      width: 32px;\n",
              "    }\n",
              "\n",
              "    .colab-df-convert:hover {\n",
              "      background-color: #E2EBFA;\n",
              "      box-shadow: 0px 1px 2px rgba(60, 64, 67, 0.3), 0px 1px 3px 1px rgba(60, 64, 67, 0.15);\n",
              "      fill: #174EA6;\n",
              "    }\n",
              "\n",
              "    .colab-df-buttons div {\n",
              "      margin-bottom: 4px;\n",
              "    }\n",
              "\n",
              "    [theme=dark] .colab-df-convert {\n",
              "      background-color: #3B4455;\n",
              "      fill: #D2E3FC;\n",
              "    }\n",
              "\n",
              "    [theme=dark] .colab-df-convert:hover {\n",
              "      background-color: #434B5C;\n",
              "      box-shadow: 0px 1px 3px 1px rgba(0, 0, 0, 0.15);\n",
              "      filter: drop-shadow(0px 1px 2px rgba(0, 0, 0, 0.3));\n",
              "      fill: #FFFFFF;\n",
              "    }\n",
              "  </style>\n",
              "\n",
              "    <script>\n",
              "      const buttonEl =\n",
              "        document.querySelector('#df-8a3f2e40-4a8d-4c50-a79e-49bc4964b04b button.colab-df-convert');\n",
              "      buttonEl.style.display =\n",
              "        google.colab.kernel.accessAllowed ? 'block' : 'none';\n",
              "\n",
              "      async function convertToInteractive(key) {\n",
              "        const element = document.querySelector('#df-8a3f2e40-4a8d-4c50-a79e-49bc4964b04b');\n",
              "        const dataTable =\n",
              "          await google.colab.kernel.invokeFunction('convertToInteractive',\n",
              "                                                    [key], {});\n",
              "        if (!dataTable) return;\n",
              "\n",
              "        const docLinkHtml = 'Like what you see? Visit the ' +\n",
              "          '<a target=\"_blank\" href=https://colab.research.google.com/notebooks/data_table.ipynb>data table notebook</a>'\n",
              "          + ' to learn more about interactive tables.';\n",
              "        element.innerHTML = '';\n",
              "        dataTable['output_type'] = 'display_data';\n",
              "        await google.colab.output.renderOutput(dataTable, element);\n",
              "        const docLink = document.createElement('div');\n",
              "        docLink.innerHTML = docLinkHtml;\n",
              "        element.appendChild(docLink);\n",
              "      }\n",
              "    </script>\n",
              "  </div>\n",
              "\n",
              "\n",
              "<div id=\"df-a0e898b3-e8c6-46ab-a7dc-9532fa2c84e9\">\n",
              "  <button class=\"colab-df-quickchart\" onclick=\"quickchart('df-a0e898b3-e8c6-46ab-a7dc-9532fa2c84e9')\"\n",
              "            title=\"Suggest charts\"\n",
              "            style=\"display:none;\">\n",
              "\n",
              "<svg xmlns=\"http://www.w3.org/2000/svg\" height=\"24px\"viewBox=\"0 0 24 24\"\n",
              "     width=\"24px\">\n",
              "    <g>\n",
              "        <path d=\"M19 3H5c-1.1 0-2 .9-2 2v14c0 1.1.9 2 2 2h14c1.1 0 2-.9 2-2V5c0-1.1-.9-2-2-2zM9 17H7v-7h2v7zm4 0h-2V7h2v10zm4 0h-2v-4h2v4z\"/>\n",
              "    </g>\n",
              "</svg>\n",
              "  </button>\n",
              "\n",
              "<style>\n",
              "  .colab-df-quickchart {\n",
              "      --bg-color: #E8F0FE;\n",
              "      --fill-color: #1967D2;\n",
              "      --hover-bg-color: #E2EBFA;\n",
              "      --hover-fill-color: #174EA6;\n",
              "      --disabled-fill-color: #AAA;\n",
              "      --disabled-bg-color: #DDD;\n",
              "  }\n",
              "\n",
              "  [theme=dark] .colab-df-quickchart {\n",
              "      --bg-color: #3B4455;\n",
              "      --fill-color: #D2E3FC;\n",
              "      --hover-bg-color: #434B5C;\n",
              "      --hover-fill-color: #FFFFFF;\n",
              "      --disabled-bg-color: #3B4455;\n",
              "      --disabled-fill-color: #666;\n",
              "  }\n",
              "\n",
              "  .colab-df-quickchart {\n",
              "    background-color: var(--bg-color);\n",
              "    border: none;\n",
              "    border-radius: 50%;\n",
              "    cursor: pointer;\n",
              "    display: none;\n",
              "    fill: var(--fill-color);\n",
              "    height: 32px;\n",
              "    padding: 0;\n",
              "    width: 32px;\n",
              "  }\n",
              "\n",
              "  .colab-df-quickchart:hover {\n",
              "    background-color: var(--hover-bg-color);\n",
              "    box-shadow: 0 1px 2px rgba(60, 64, 67, 0.3), 0 1px 3px 1px rgba(60, 64, 67, 0.15);\n",
              "    fill: var(--button-hover-fill-color);\n",
              "  }\n",
              "\n",
              "  .colab-df-quickchart-complete:disabled,\n",
              "  .colab-df-quickchart-complete:disabled:hover {\n",
              "    background-color: var(--disabled-bg-color);\n",
              "    fill: var(--disabled-fill-color);\n",
              "    box-shadow: none;\n",
              "  }\n",
              "\n",
              "  .colab-df-spinner {\n",
              "    border: 2px solid var(--fill-color);\n",
              "    border-color: transparent;\n",
              "    border-bottom-color: var(--fill-color);\n",
              "    animation:\n",
              "      spin 1s steps(1) infinite;\n",
              "  }\n",
              "\n",
              "  @keyframes spin {\n",
              "    0% {\n",
              "      border-color: transparent;\n",
              "      border-bottom-color: var(--fill-color);\n",
              "      border-left-color: var(--fill-color);\n",
              "    }\n",
              "    20% {\n",
              "      border-color: transparent;\n",
              "      border-left-color: var(--fill-color);\n",
              "      border-top-color: var(--fill-color);\n",
              "    }\n",
              "    30% {\n",
              "      border-color: transparent;\n",
              "      border-left-color: var(--fill-color);\n",
              "      border-top-color: var(--fill-color);\n",
              "      border-right-color: var(--fill-color);\n",
              "    }\n",
              "    40% {\n",
              "      border-color: transparent;\n",
              "      border-right-color: var(--fill-color);\n",
              "      border-top-color: var(--fill-color);\n",
              "    }\n",
              "    60% {\n",
              "      border-color: transparent;\n",
              "      border-right-color: var(--fill-color);\n",
              "    }\n",
              "    80% {\n",
              "      border-color: transparent;\n",
              "      border-right-color: var(--fill-color);\n",
              "      border-bottom-color: var(--fill-color);\n",
              "    }\n",
              "    90% {\n",
              "      border-color: transparent;\n",
              "      border-bottom-color: var(--fill-color);\n",
              "    }\n",
              "  }\n",
              "</style>\n",
              "\n",
              "  <script>\n",
              "    async function quickchart(key) {\n",
              "      const quickchartButtonEl =\n",
              "        document.querySelector('#' + key + ' button');\n",
              "      quickchartButtonEl.disabled = true;  // To prevent multiple clicks.\n",
              "      quickchartButtonEl.classList.add('colab-df-spinner');\n",
              "      try {\n",
              "        const charts = await google.colab.kernel.invokeFunction(\n",
              "            'suggestCharts', [key], {});\n",
              "      } catch (error) {\n",
              "        console.error('Error during call to suggestCharts:', error);\n",
              "      }\n",
              "      quickchartButtonEl.classList.remove('colab-df-spinner');\n",
              "      quickchartButtonEl.classList.add('colab-df-quickchart-complete');\n",
              "    }\n",
              "    (() => {\n",
              "      let quickchartButtonEl =\n",
              "        document.querySelector('#df-a0e898b3-e8c6-46ab-a7dc-9532fa2c84e9 button');\n",
              "      quickchartButtonEl.style.display =\n",
              "        google.colab.kernel.accessAllowed ? 'block' : 'none';\n",
              "    })();\n",
              "  </script>\n",
              "</div>\n",
              "\n",
              "  <div id=\"id_7d3ea4e4-0962-4630-8b9f-f0dc58fa0101\">\n",
              "    <style>\n",
              "      .colab-df-generate {\n",
              "        background-color: #E8F0FE;\n",
              "        border: none;\n",
              "        border-radius: 50%;\n",
              "        cursor: pointer;\n",
              "        display: none;\n",
              "        fill: #1967D2;\n",
              "        height: 32px;\n",
              "        padding: 0 0 0 0;\n",
              "        width: 32px;\n",
              "      }\n",
              "\n",
              "      .colab-df-generate:hover {\n",
              "        background-color: #E2EBFA;\n",
              "        box-shadow: 0px 1px 2px rgba(60, 64, 67, 0.3), 0px 1px 3px 1px rgba(60, 64, 67, 0.15);\n",
              "        fill: #174EA6;\n",
              "      }\n",
              "\n",
              "      [theme=dark] .colab-df-generate {\n",
              "        background-color: #3B4455;\n",
              "        fill: #D2E3FC;\n",
              "      }\n",
              "\n",
              "      [theme=dark] .colab-df-generate:hover {\n",
              "        background-color: #434B5C;\n",
              "        box-shadow: 0px 1px 3px 1px rgba(0, 0, 0, 0.15);\n",
              "        filter: drop-shadow(0px 1px 2px rgba(0, 0, 0, 0.3));\n",
              "        fill: #FFFFFF;\n",
              "      }\n",
              "    </style>\n",
              "    <button class=\"colab-df-generate\" onclick=\"generateWithVariable('status_stage_counts')\"\n",
              "            title=\"Generate code using this dataframe.\"\n",
              "            style=\"display:none;\">\n",
              "\n",
              "  <svg xmlns=\"http://www.w3.org/2000/svg\" height=\"24px\"viewBox=\"0 0 24 24\"\n",
              "       width=\"24px\">\n",
              "    <path d=\"M7,19H8.4L18.45,9,17,7.55,7,17.6ZM5,21V16.75L18.45,3.32a2,2,0,0,1,2.83,0l1.4,1.43a1.91,1.91,0,0,1,.58,1.4,1.91,1.91,0,0,1-.58,1.4L9.25,21ZM18.45,9,17,7.55Zm-12,3A5.31,5.31,0,0,0,4.9,8.1,5.31,5.31,0,0,0,1,6.5,5.31,5.31,0,0,0,4.9,4.9,5.31,5.31,0,0,0,6.5,1,5.31,5.31,0,0,0,8.1,4.9,5.31,5.31,0,0,0,12,6.5,5.46,5.46,0,0,0,6.5,12Z\"/>\n",
              "  </svg>\n",
              "    </button>\n",
              "    <script>\n",
              "      (() => {\n",
              "      const buttonEl =\n",
              "        document.querySelector('#id_7d3ea4e4-0962-4630-8b9f-f0dc58fa0101 button.colab-df-generate');\n",
              "      buttonEl.style.display =\n",
              "        google.colab.kernel.accessAllowed ? 'block' : 'none';\n",
              "\n",
              "      buttonEl.onclick = () => {\n",
              "        google.colab.notebook.generateWithVariable('status_stage_counts');\n",
              "      }\n",
              "      })();\n",
              "    </script>\n",
              "  </div>\n",
              "\n",
              "    </div>\n",
              "  </div>\n"
            ],
            "application/vnd.google.colaboratory.intrinsic+json": {
              "type": "dataframe",
              "variable_name": "status_stage_counts",
              "summary": "{\n  \"name\": \"status_stage_counts\",\n  \"rows\": 2,\n  \"fields\": [\n    {\n      \"column\": \"\\u5408\\u540c\\u72b6\\u6001-\\u9879\\u76ee\",\n      \"properties\": {\n        \"dtype\": \"string\",\n        \"num_unique_values\": 1,\n        \"samples\": [\n          \"\\u672a\\u7b7e\\u7ea6-\\u672a\\u786e\\u8ba4\"\n        ],\n        \"semantic_type\": \"\",\n        \"description\": \"\"\n      }\n    },\n    {\n      \"column\": \"\\u9879\\u76ee\\u9636\\u6bb5\\uff08\\u9879\\u76ee\\u7ecf\\u7406\\u7ef4\\u62a4\\uff09\",\n      \"properties\": {\n        \"dtype\": \"string\",\n        \"num_unique_values\": 2,\n        \"samples\": [\n          \"\\u5f00\\u53d1\\u9636\\u6bb5-\\u5f85\\u6392\\u671f\"\n        ],\n        \"semantic_type\": \"\",\n        \"description\": \"\"\n      }\n    },\n    {\n      \"column\": \"\\u6570\\u91cf\",\n      \"properties\": {\n        \"dtype\": \"number\",\n        \"std\": 0,\n        \"min\": 1,\n        \"max\": 2,\n        \"num_unique_values\": 2,\n        \"samples\": [\n          2\n        ],\n        \"semantic_type\": \"\",\n        \"description\": \"\"\n      }\n    }\n  ]\n}"
            }
          },
          "metadata": {},
          "execution_count": 14
        }
      ]
    },
    {
      "cell_type": "code",
      "source": [
        "# Step 2: 按合同状态生成描述性字符串\n",
        "output = []\n",
        "for status, group in status_stage_counts.groupby('合同状态-项目'):\n",
        "    total_count = group['数量'].sum()  # 计算该合同状态下的总项目数\n",
        "    description = f\"{total_count}个项目{status}，其中\"\n",
        "\n",
        "    # 按项目阶段生成子描述\n",
        "    stage_descriptions = [f\"{row['项目阶段（项目经理维护）']}{row['数量']}个\" for _, row in group.iterrows()]\n",
        "    description += \"，\".join(stage_descriptions) + \"；\"\n",
        "    output.append(description)"
      ],
      "metadata": {
        "id": "MbOaoxe1-ZLF"
      },
      "execution_count": 15,
      "outputs": []
    },
    {
      "cell_type": "code",
      "source": [
        "# Step 3: 拼接最终输出\n",
        "unsigned_final_description = \" \".join(output)\n",
        "print(unsigned_final_description)"
      ],
      "metadata": {
        "colab": {
          "base_uri": "https://localhost:8080/"
        },
        "id": "X0l1AKE1-vdM",
        "outputId": "6b43ba99-f868-42a3-dd6f-08af42989925"
      },
      "execution_count": 16,
      "outputs": [
        {
          "output_type": "stream",
          "name": "stdout",
          "text": [
            "3个项目未签约-未确认，其中UAT产品验收1个，开发阶段-待排期2个；\n"
          ]
        }
      ]
    },
    {
      "cell_type": "markdown",
      "source": [
        "## Result"
      ],
      "metadata": {
        "id": "76jp2y_VCtNO"
      }
    },
    {
      "cell_type": "code",
      "source": [
        "from datetime import datetime\n",
        "\n",
        "# 获取当前时间\n",
        "current_time = datetime.now()\n",
        "\n",
        "# 格式化输出当前时间\n",
        "print(\"当前时间:\", current_time)\n"
      ],
      "metadata": {
        "colab": {
          "base_uri": "https://localhost:8080/"
        },
        "id": "VfcD5iABHoWE",
        "outputId": "4378a16a-1059-4482-887a-bf6c50f9802f"
      },
      "execution_count": 17,
      "outputs": [
        {
          "output_type": "stream",
          "name": "stdout",
          "text": [
            "当前时间: 2024-11-29 08:05:25.878683\n"
          ]
        }
      ]
    },
    {
      "cell_type": "code",
      "source": [
        "# SG项目\n",
        "print(proj_high_priority_desc+\"；\")\n",
        "print(proj_signed_desc+\"；\"+unsigned_final_description)"
      ],
      "metadata": {
        "colab": {
          "base_uri": "https://localhost:8080/"
        },
        "id": "4yoaD2_u-xDu",
        "outputId": "6cb03408-ceed-4efb-8f69-1c883d772024"
      },
      "execution_count": 18,
      "outputs": [
        {
          "output_type": "stream",
          "name": "stdout",
          "text": [
            "共涉及17个项目， 根据优先级划分：高优先级项目10个，其中项目阶段为开发阶段-待排期6个，UAT产品验收3个，开发阶段-开发中1个；\n",
            "根据合同状态划分：12个项目已签约。其中开发阶段-待排期6个，需求阶段-调研中3个，UAT产品验收2个，开发阶段-开发中1个；3个项目未签约-未确认，其中UAT产品验收1个，开发阶段-待排期2个；\n"
          ]
        }
      ]
    },
    {
      "cell_type": "code",
      "source": [
        "# SG优化\n",
        "yh_total_description"
      ],
      "metadata": {
        "colab": {
          "base_uri": "https://localhost:8080/",
          "height": 35
        },
        "id": "noWn2UrPDqe-",
        "outputId": "a14db77d-9a1f-4e21-ee54-27366d32f84a"
      },
      "execution_count": 19,
      "outputs": [
        {
          "output_type": "execute_result",
          "data": {
            "text/plain": [
              "'共涉及35个需求。根据优先级划分，高优先级需求21个，其中技术上线5个，需求阶段-待规划5个，需求阶段-调研中4个，开发阶段-待排期3个，测试阶段-测试中1个，开发阶段-开发中1个，业务对外1个，UAT产品验收1个。'"
            ],
            "application/vnd.google.colaboratory.intrinsic+json": {
              "type": "string"
            }
          },
          "metadata": {},
          "execution_count": 19
        }
      ]
    },
    {
      "cell_type": "code",
      "source": [],
      "metadata": {
        "id": "JKqdTu5No8IP"
      },
      "execution_count": 19,
      "outputs": []
    }
  ]
}